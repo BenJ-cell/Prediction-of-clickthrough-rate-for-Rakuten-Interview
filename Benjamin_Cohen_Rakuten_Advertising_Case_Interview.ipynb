{
  "nbformat": 4,
  "nbformat_minor": 0,
  "metadata": {
    "colab": {
      "provenance": []
    },
    "kernelspec": {
      "name": "python3",
      "display_name": "Python 3"
    },
    "language_info": {
      "name": "python"
    }
  },
  "cells": [
    {
      "cell_type": "markdown",
      "source": [
        "# **Rakuten Advertising Case Interview**"
      ],
      "metadata": {
        "id": "GowpW_lVuhmU"
      }
    },
    {
      "cell_type": "markdown",
      "source": [
        "# **Import necessary libraries**"
      ],
      "metadata": {
        "id": "MrmH5i6vucJB"
      }
    },
    {
      "cell_type": "code",
      "source": [
        "# !pip install catboost"
      ],
      "metadata": {
        "id": "SrreZDUocsuN"
      },
      "execution_count": null,
      "outputs": []
    },
    {
      "cell_type": "code",
      "execution_count": null,
      "metadata": {
        "id": "F2B09WeveDeQ"
      },
      "outputs": [],
      "source": [
        "import numpy as np\n",
        "import pandas as pd\n",
        "import matplotlib.pyplot as plt\n",
        "import seaborn as sns\n",
        "import pylab as py\n",
        "import statsmodels.api as sm\n",
        "\n",
        "from sklearn.preprocessing import OrdinalEncoder, StandardScaler\n",
        "from sklearn.model_selection import train_test_split\n",
        "from scipy.stats import kurtosis, skew\n",
        "from sklearn.metrics import mean_squared_error,r2_score\n",
        "from math import log, exp\n",
        "\n",
        "from sklearn.linear_model import LinearRegression, Ridge, Lasso, ElasticNet\n",
        "import xgboost as xgb\n",
        "import lightgbm as lgb\n",
        "from catboost import CatBoostRegressor"
      ]
    },
    {
      "cell_type": "markdown",
      "source": [
        "# **Import the data**"
      ],
      "metadata": {
        "id": "RFuMfiuEutj2"
      }
    },
    {
      "cell_type": "code",
      "source": [
        "df_train = pd.read_csv('Interview Dataset Rakuten Advertising Train Set')\n",
        "df_test_final = pd.read_csv('Interview Dataset Rakuten Advertising Test Set')\n",
        "df_train.head()"
      ],
      "metadata": {
        "colab": {
          "base_uri": "https://localhost:8080/",
          "height": 206
        },
        "id": "8C8Ok6ZhfMOy",
        "outputId": "1e36a0bc-04bf-4e06-ba02-35f42e75f18f"
      },
      "execution_count": null,
      "outputs": [
        {
          "output_type": "execute_result",
          "data": {
            "text/plain": [
              "                  date  zone_id  media_id  advertiser_id  campaign_id  \\\n",
              "0  2017-05-02 00:00:00   2794.0     149.0         3206.0      16034.0   \n",
              "1  2017-05-06 00:00:00    879.0      77.0         1612.0       8060.0   \n",
              "2  2017-05-07 00:00:00   1321.0     119.0         2061.0      10306.0   \n",
              "3  2017-05-04 00:00:00   2347.0      77.0         1605.0       8029.0   \n",
              "4  2017-05-02 00:00:00    931.0      90.0         1604.0       8023.0   \n",
              "\n",
              "                   domain  visibility    ad_id   width  height country_ref  \\\n",
              "0           fatsecret.com         1.0  14885.0   250.0   250.0          US   \n",
              "1            sfrregie.com         NaN   7126.0   300.0   250.0          FR   \n",
              "2          alberghiera.it         2.0  11696.0   320.0    50.0          IT   \n",
              "3           visorando.com         NaN   5837.0  1000.0    90.0          FR   \n",
              "4  pblv-plusbellelavie.fr         NaN   7414.0   300.0   250.0          FR   \n",
              "\n",
              "     device  imps  clicks  \n",
              "0    safari   1.0     0.0  \n",
              "1   firefox   2.0     0.0  \n",
              "2  iosPhone   1.0     0.0  \n",
              "3   firefox   1.0     0.0  \n",
              "4   firefox   1.0     0.0  "
            ],
            "text/html": [
              "\n",
              "  <div id=\"df-5821bce0-b206-4b34-ae67-21af8a1bdbea\">\n",
              "    <div class=\"colab-df-container\">\n",
              "      <div>\n",
              "<style scoped>\n",
              "    .dataframe tbody tr th:only-of-type {\n",
              "        vertical-align: middle;\n",
              "    }\n",
              "\n",
              "    .dataframe tbody tr th {\n",
              "        vertical-align: top;\n",
              "    }\n",
              "\n",
              "    .dataframe thead th {\n",
              "        text-align: right;\n",
              "    }\n",
              "</style>\n",
              "<table border=\"1\" class=\"dataframe\">\n",
              "  <thead>\n",
              "    <tr style=\"text-align: right;\">\n",
              "      <th></th>\n",
              "      <th>date</th>\n",
              "      <th>zone_id</th>\n",
              "      <th>media_id</th>\n",
              "      <th>advertiser_id</th>\n",
              "      <th>campaign_id</th>\n",
              "      <th>domain</th>\n",
              "      <th>visibility</th>\n",
              "      <th>ad_id</th>\n",
              "      <th>width</th>\n",
              "      <th>height</th>\n",
              "      <th>country_ref</th>\n",
              "      <th>device</th>\n",
              "      <th>imps</th>\n",
              "      <th>clicks</th>\n",
              "    </tr>\n",
              "  </thead>\n",
              "  <tbody>\n",
              "    <tr>\n",
              "      <th>0</th>\n",
              "      <td>2017-05-02 00:00:00</td>\n",
              "      <td>2794.0</td>\n",
              "      <td>149.0</td>\n",
              "      <td>3206.0</td>\n",
              "      <td>16034.0</td>\n",
              "      <td>fatsecret.com</td>\n",
              "      <td>1.0</td>\n",
              "      <td>14885.0</td>\n",
              "      <td>250.0</td>\n",
              "      <td>250.0</td>\n",
              "      <td>US</td>\n",
              "      <td>safari</td>\n",
              "      <td>1.0</td>\n",
              "      <td>0.0</td>\n",
              "    </tr>\n",
              "    <tr>\n",
              "      <th>1</th>\n",
              "      <td>2017-05-06 00:00:00</td>\n",
              "      <td>879.0</td>\n",
              "      <td>77.0</td>\n",
              "      <td>1612.0</td>\n",
              "      <td>8060.0</td>\n",
              "      <td>sfrregie.com</td>\n",
              "      <td>NaN</td>\n",
              "      <td>7126.0</td>\n",
              "      <td>300.0</td>\n",
              "      <td>250.0</td>\n",
              "      <td>FR</td>\n",
              "      <td>firefox</td>\n",
              "      <td>2.0</td>\n",
              "      <td>0.0</td>\n",
              "    </tr>\n",
              "    <tr>\n",
              "      <th>2</th>\n",
              "      <td>2017-05-07 00:00:00</td>\n",
              "      <td>1321.0</td>\n",
              "      <td>119.0</td>\n",
              "      <td>2061.0</td>\n",
              "      <td>10306.0</td>\n",
              "      <td>alberghiera.it</td>\n",
              "      <td>2.0</td>\n",
              "      <td>11696.0</td>\n",
              "      <td>320.0</td>\n",
              "      <td>50.0</td>\n",
              "      <td>IT</td>\n",
              "      <td>iosPhone</td>\n",
              "      <td>1.0</td>\n",
              "      <td>0.0</td>\n",
              "    </tr>\n",
              "    <tr>\n",
              "      <th>3</th>\n",
              "      <td>2017-05-04 00:00:00</td>\n",
              "      <td>2347.0</td>\n",
              "      <td>77.0</td>\n",
              "      <td>1605.0</td>\n",
              "      <td>8029.0</td>\n",
              "      <td>visorando.com</td>\n",
              "      <td>NaN</td>\n",
              "      <td>5837.0</td>\n",
              "      <td>1000.0</td>\n",
              "      <td>90.0</td>\n",
              "      <td>FR</td>\n",
              "      <td>firefox</td>\n",
              "      <td>1.0</td>\n",
              "      <td>0.0</td>\n",
              "    </tr>\n",
              "    <tr>\n",
              "      <th>4</th>\n",
              "      <td>2017-05-02 00:00:00</td>\n",
              "      <td>931.0</td>\n",
              "      <td>90.0</td>\n",
              "      <td>1604.0</td>\n",
              "      <td>8023.0</td>\n",
              "      <td>pblv-plusbellelavie.fr</td>\n",
              "      <td>NaN</td>\n",
              "      <td>7414.0</td>\n",
              "      <td>300.0</td>\n",
              "      <td>250.0</td>\n",
              "      <td>FR</td>\n",
              "      <td>firefox</td>\n",
              "      <td>1.0</td>\n",
              "      <td>0.0</td>\n",
              "    </tr>\n",
              "  </tbody>\n",
              "</table>\n",
              "</div>\n",
              "      <button class=\"colab-df-convert\" onclick=\"convertToInteractive('df-5821bce0-b206-4b34-ae67-21af8a1bdbea')\"\n",
              "              title=\"Convert this dataframe to an interactive table.\"\n",
              "              style=\"display:none;\">\n",
              "        \n",
              "  <svg xmlns=\"http://www.w3.org/2000/svg\" height=\"24px\"viewBox=\"0 0 24 24\"\n",
              "       width=\"24px\">\n",
              "    <path d=\"M0 0h24v24H0V0z\" fill=\"none\"/>\n",
              "    <path d=\"M18.56 5.44l.94 2.06.94-2.06 2.06-.94-2.06-.94-.94-2.06-.94 2.06-2.06.94zm-11 1L8.5 8.5l.94-2.06 2.06-.94-2.06-.94L8.5 2.5l-.94 2.06-2.06.94zm10 10l.94 2.06.94-2.06 2.06-.94-2.06-.94-.94-2.06-.94 2.06-2.06.94z\"/><path d=\"M17.41 7.96l-1.37-1.37c-.4-.4-.92-.59-1.43-.59-.52 0-1.04.2-1.43.59L10.3 9.45l-7.72 7.72c-.78.78-.78 2.05 0 2.83L4 21.41c.39.39.9.59 1.41.59.51 0 1.02-.2 1.41-.59l7.78-7.78 2.81-2.81c.8-.78.8-2.07 0-2.86zM5.41 20L4 18.59l7.72-7.72 1.47 1.35L5.41 20z\"/>\n",
              "  </svg>\n",
              "      </button>\n",
              "      \n",
              "  <style>\n",
              "    .colab-df-container {\n",
              "      display:flex;\n",
              "      flex-wrap:wrap;\n",
              "      gap: 12px;\n",
              "    }\n",
              "\n",
              "    .colab-df-convert {\n",
              "      background-color: #E8F0FE;\n",
              "      border: none;\n",
              "      border-radius: 50%;\n",
              "      cursor: pointer;\n",
              "      display: none;\n",
              "      fill: #1967D2;\n",
              "      height: 32px;\n",
              "      padding: 0 0 0 0;\n",
              "      width: 32px;\n",
              "    }\n",
              "\n",
              "    .colab-df-convert:hover {\n",
              "      background-color: #E2EBFA;\n",
              "      box-shadow: 0px 1px 2px rgba(60, 64, 67, 0.3), 0px 1px 3px 1px rgba(60, 64, 67, 0.15);\n",
              "      fill: #174EA6;\n",
              "    }\n",
              "\n",
              "    [theme=dark] .colab-df-convert {\n",
              "      background-color: #3B4455;\n",
              "      fill: #D2E3FC;\n",
              "    }\n",
              "\n",
              "    [theme=dark] .colab-df-convert:hover {\n",
              "      background-color: #434B5C;\n",
              "      box-shadow: 0px 1px 3px 1px rgba(0, 0, 0, 0.15);\n",
              "      filter: drop-shadow(0px 1px 2px rgba(0, 0, 0, 0.3));\n",
              "      fill: #FFFFFF;\n",
              "    }\n",
              "  </style>\n",
              "\n",
              "      <script>\n",
              "        const buttonEl =\n",
              "          document.querySelector('#df-5821bce0-b206-4b34-ae67-21af8a1bdbea button.colab-df-convert');\n",
              "        buttonEl.style.display =\n",
              "          google.colab.kernel.accessAllowed ? 'block' : 'none';\n",
              "\n",
              "        async function convertToInteractive(key) {\n",
              "          const element = document.querySelector('#df-5821bce0-b206-4b34-ae67-21af8a1bdbea');\n",
              "          const dataTable =\n",
              "            await google.colab.kernel.invokeFunction('convertToInteractive',\n",
              "                                                     [key], {});\n",
              "          if (!dataTable) return;\n",
              "\n",
              "          const docLinkHtml = 'Like what you see? Visit the ' +\n",
              "            '<a target=\"_blank\" href=https://colab.research.google.com/notebooks/data_table.ipynb>data table notebook</a>'\n",
              "            + ' to learn more about interactive tables.';\n",
              "          element.innerHTML = '';\n",
              "          dataTable['output_type'] = 'display_data';\n",
              "          await google.colab.output.renderOutput(dataTable, element);\n",
              "          const docLink = document.createElement('div');\n",
              "          docLink.innerHTML = docLinkHtml;\n",
              "          element.appendChild(docLink);\n",
              "        }\n",
              "      </script>\n",
              "    </div>\n",
              "  </div>\n",
              "  "
            ]
          },
          "metadata": {},
          "execution_count": 3
        }
      ]
    },
    {
      "cell_type": "markdown",
      "source": [
        "# **Exploratory Data Analysis (EDA)**"
      ],
      "metadata": {
        "id": "LzjPQS88E_8n"
      }
    },
    {
      "cell_type": "code",
      "source": [
        "len(df_train['date'].unique())"
      ],
      "metadata": {
        "colab": {
          "base_uri": "https://localhost:8080/"
        },
        "id": "_EXM8rJnIXsn",
        "outputId": "cee47ec0-91d2-4bcd-eb14-30b33b89d2f7"
      },
      "execution_count": null,
      "outputs": [
        {
          "output_type": "execute_result",
          "data": {
            "text/plain": [
              "9"
            ]
          },
          "metadata": {},
          "execution_count": 4
        }
      ]
    },
    {
      "cell_type": "code",
      "source": [
        "df_train = df_train\n",
        "df_test_final = df_test_final"
      ],
      "metadata": {
        "id": "lXnY3oFC8VEI"
      },
      "execution_count": null,
      "outputs": []
    },
    {
      "cell_type": "code",
      "source": [
        "print(len(df_train))\n",
        "print(len(df_test_final))"
      ],
      "metadata": {
        "id": "yedQVhZGInK5",
        "colab": {
          "base_uri": "https://localhost:8080/"
        },
        "outputId": "b643be26-1c30-4c86-ef01-02b9c9a1a7f1"
      },
      "execution_count": null,
      "outputs": [
        {
          "output_type": "stream",
          "name": "stdout",
          "text": [
            "4459065\n",
            "2019086\n"
          ]
        }
      ]
    },
    {
      "cell_type": "code",
      "source": [
        "for col in df_train:\n",
        "    print(f'Unique values in {col}:',len(df_train[col].unique()))"
      ],
      "metadata": {
        "id": "Dd9m8HH4OkzY",
        "colab": {
          "base_uri": "https://localhost:8080/"
        },
        "outputId": "fd0d4d22-3758-4b7e-f7b5-0164aaf7c481"
      },
      "execution_count": null,
      "outputs": [
        {
          "output_type": "stream",
          "name": "stdout",
          "text": [
            "Unique values in date: 9\n",
            "Unique values in zone_id: 2896\n",
            "Unique values in media_id: 187\n",
            "Unique values in advertiser_id: 117\n",
            "Unique values in campaign_id: 496\n",
            "Unique values in domain: 76575\n",
            "Unique values in visibility: 3\n",
            "Unique values in ad_id: 15033\n",
            "Unique values in width: 20\n",
            "Unique values in height: 15\n",
            "Unique values in country_ref: 13\n",
            "Unique values in device: 18\n",
            "Unique values in imps: 1341\n",
            "Unique values in clicks: 175\n"
          ]
        }
      ]
    },
    {
      "cell_type": "code",
      "source": [
        "df_train['clicks'].unique()"
      ],
      "metadata": {
        "id": "9MwQ9UWMFcES",
        "colab": {
          "base_uri": "https://localhost:8080/"
        },
        "outputId": "da9c0907-ded0-4d22-f3c2-e589668eaa34"
      },
      "execution_count": null,
      "outputs": [
        {
          "output_type": "execute_result",
          "data": {
            "text/plain": [
              "array([  0.,   1.,   2.,   5.,   3.,   7.,   4.,   8.,  12.,  37.,   9.,\n",
              "         6.,  21.,  19.,  28.,  13.,  10.,  16.,  27.,  11.,  18.,  20.,\n",
              "        15.,  24.,  26.,  22., 258.,  29., 116.,  45.,  14., 128.,  23.,\n",
              "        36.,  65., 462.,  31.,  30.,  32., 371.,  77.,  17.,  46.,  83.,\n",
              "       330.,  39., 148.,  38., 282.,  69.,  54.,  50.,  67.,  72.,  64.,\n",
              "        44., 131.,  34., 115.,  41.,  25.,  55.,  48.,  82.,  90., 319.,\n",
              "        35., 102.,  71., 204.,  59.,  33.,  42., 155., 106.,  85., 228.,\n",
              "        58.,  43.,  53., 220.,  49., 203., 146., 215.,  84., 107., 241.,\n",
              "       112.,  73.,  98., 123., 240.,  92., 117., 132.,  51.,  76.,  81.,\n",
              "       197., 143.,  96., 287.,  87., 149.,  40.,  57., 114.,  80., 145.,\n",
              "       110., 160., 249.,  70., 172., 624., 193.,  78., 360., 380.,  79.,\n",
              "       101., 198., 165.,  47., 108.,  91.,  52.,  62., 218.,  60., 694.,\n",
              "       134., 158., 142., 331.,  56.,  75., 127.,  93.,  66., 278., 387.,\n",
              "        61., 109., 184., 105.,  63., 121., 321., 118., 440.,  68., 111.,\n",
              "       216., 140.,  88., 345.,  89.,  94., 230., 436.,  86.,  95., 162.,\n",
              "       119., 135., 221., 174., 125., 185., 317., 299., 151.,  nan])"
            ]
          },
          "metadata": {},
          "execution_count": 8
        }
      ]
    },
    {
      "cell_type": "code",
      "source": [
        "max(df_train['clicks'].unique())"
      ],
      "metadata": {
        "id": "usEuKxwvNV6m",
        "colab": {
          "base_uri": "https://localhost:8080/"
        },
        "outputId": "a87089de-df16-4974-fe89-837f471005ec"
      },
      "execution_count": null,
      "outputs": [
        {
          "output_type": "execute_result",
          "data": {
            "text/plain": [
              "694.0"
            ]
          },
          "metadata": {},
          "execution_count": 9
        }
      ]
    },
    {
      "cell_type": "markdown",
      "source": [
        "We can see a huge imbalance in our dataset with mostly zero click on the ad meaning the customer did not click."
      ],
      "metadata": {
        "id": "dizDebWdexvc"
      }
    },
    {
      "cell_type": "code",
      "source": [
        "pd.value_counts(df_train['clicks'])"
      ],
      "metadata": {
        "id": "m9Tk8HgVGJb6",
        "colab": {
          "base_uri": "https://localhost:8080/"
        },
        "outputId": "4adfd0b8-567e-4cdb-91ac-64a43ef6883b"
      },
      "execution_count": null,
      "outputs": [
        {
          "output_type": "execute_result",
          "data": {
            "text/plain": [
              "0.0      4292936\n",
              "1.0       120452\n",
              "2.0        23244\n",
              "3.0         8533\n",
              "4.0         4161\n",
              "          ...   \n",
              "172.0          1\n",
              "249.0          1\n",
              "160.0          1\n",
              "145.0          1\n",
              "151.0          1\n",
              "Name: clicks, Length: 174, dtype: int64"
            ]
          },
          "metadata": {},
          "execution_count": 10
        }
      ]
    },
    {
      "cell_type": "code",
      "source": [
        "100*pd.value_counts(df_train['clicks'])/len(df_train['clicks'])"
      ],
      "metadata": {
        "id": "9lrvNvtMG1bw",
        "colab": {
          "base_uri": "https://localhost:8080/"
        },
        "outputId": "969a3572-c074-4eed-c13f-5c877d5bd945"
      },
      "execution_count": null,
      "outputs": [
        {
          "output_type": "execute_result",
          "data": {
            "text/plain": [
              "0.0      96.274353\n",
              "1.0       2.701284\n",
              "2.0       0.521275\n",
              "3.0       0.191363\n",
              "4.0       0.093316\n",
              "           ...    \n",
              "172.0     0.000022\n",
              "249.0     0.000022\n",
              "160.0     0.000022\n",
              "145.0     0.000022\n",
              "151.0     0.000022\n",
              "Name: clicks, Length: 174, dtype: float64"
            ]
          },
          "metadata": {},
          "execution_count": 11
        }
      ]
    },
    {
      "cell_type": "markdown",
      "source": [
        "# **The target variable is highly skewed**"
      ],
      "metadata": {
        "id": "IfEfDIp_KkTw"
      }
    },
    {
      "cell_type": "code",
      "source": [
        "pd.value_counts(df_train['clicks']).plot.bar()"
      ],
      "metadata": {
        "id": "3t66PKbbeXpK",
        "colab": {
          "base_uri": "https://localhost:8080/",
          "height": 313
        },
        "outputId": "ab1cda12-6458-4a8f-cd93-03e5a6f84629"
      },
      "execution_count": null,
      "outputs": [
        {
          "output_type": "execute_result",
          "data": {
            "text/plain": [
              "<matplotlib.axes._subplots.AxesSubplot at 0x7f32a49b59d0>"
            ]
          },
          "metadata": {},
          "execution_count": 12
        },
        {
          "output_type": "display_data",
          "data": {
            "text/plain": [
              "<Figure size 432x288 with 1 Axes>"
            ],
            "image/png": "[encoded data removed]"
          },
          "metadata": {
            "needs_background": "light"
          }
        }
      ]
    },
    {
      "cell_type": "code",
      "source": [
        "pd.value_counts(df_train['clicks'][df_train['clicks']!=0]).plot.bar()"
      ],
      "metadata": {
        "id": "lWbwQGzPejnm",
        "colab": {
          "base_uri": "https://localhost:8080/",
          "height": 302
        },
        "outputId": "935f6643-e4d1-4e5f-b840-49b62303f732"
      },
      "execution_count": null,
      "outputs": [
        {
          "output_type": "execute_result",
          "data": {
            "text/plain": [
              "<matplotlib.axes._subplots.AxesSubplot at 0x7f32a46274c0>"
            ]
          },
          "metadata": {},
          "execution_count": 13
        },
        {
          "output_type": "display_data",
          "data": {
            "text/plain": [
              "<Figure size 432x288 with 1 Axes>"
            ],
            "image/png": "[encoded data removed]"
          },
          "metadata": {
            "needs_background": "light"
          }
        }
      ]
    },
    {
      "cell_type": "code",
      "source": [
        "pd.value_counts(df_train['clicks'][df_train['clicks']>1]).plot.bar()"
      ],
      "metadata": {
        "id": "fnxE9mprFs3f",
        "colab": {
          "base_uri": "https://localhost:8080/",
          "height": 302
        },
        "outputId": "54d9fe1e-3dc2-4c52-b7cc-6251bacb0ea2"
      },
      "execution_count": null,
      "outputs": [
        {
          "output_type": "execute_result",
          "data": {
            "text/plain": [
              "<matplotlib.axes._subplots.AxesSubplot at 0x7f32a3bae8e0>"
            ]
          },
          "metadata": {},
          "execution_count": 14
        },
        {
          "output_type": "display_data",
          "data": {
            "text/plain": [
              "<Figure size 432x288 with 1 Axes>"
            ],
            "image/png": "[encoded data removed]"
          },
          "metadata": {
            "needs_background": "light"
          }
        }
      ]
    },
    {
      "cell_type": "code",
      "source": [
        "print(\"Imbalance ratio: {}\".format(float(len(df_train[df_train['clicks']==0]))/len(df_train[df_train['clicks']!=0])))"
      ],
      "metadata": {
        "id": "KmmLG-vwFJ0q",
        "colab": {
          "base_uri": "https://localhost:8080/"
        },
        "outputId": "601703cc-876e-4b72-e3da-92b791537b36"
      },
      "execution_count": null,
      "outputs": [
        {
          "output_type": "stream",
          "name": "stdout",
          "text": [
            "Imbalance ratio: 25.84097899824835\n"
          ]
        }
      ]
    },
    {
      "cell_type": "code",
      "source": [
        "df_train.nunique()"
      ],
      "metadata": {
        "id": "eEiyd8OCbEOv",
        "colab": {
          "base_uri": "https://localhost:8080/"
        },
        "outputId": "577fdb33-95e3-48c9-ec27-5d2f64cfb0f7"
      },
      "execution_count": null,
      "outputs": [
        {
          "output_type": "execute_result",
          "data": {
            "text/plain": [
              "date                 9\n",
              "zone_id           2895\n",
              "media_id           186\n",
              "advertiser_id      116\n",
              "campaign_id        495\n",
              "domain           76574\n",
              "visibility           2\n",
              "ad_id            15032\n",
              "width               19\n",
              "height              14\n",
              "country_ref         12\n",
              "device              17\n",
              "imps              1340\n",
              "clicks             174\n",
              "dtype: int64"
            ]
          },
          "metadata": {},
          "execution_count": 16
        }
      ]
    },
    {
      "cell_type": "code",
      "source": [
        "df_train.describe(include='all').T"
      ],
      "metadata": {
        "id": "tP07KeFxcBE7",
        "colab": {
          "base_uri": "https://localhost:8080/",
          "height": 488
        },
        "outputId": "f7f11e4b-a739-456c-e7a0-3aaccca97c77"
      },
      "execution_count": null,
      "outputs": [
        {
          "output_type": "execute_result",
          "data": {
            "text/plain": [
              "                   count unique                  top     freq         mean  \\\n",
              "date             4459065      9  2017-05-01 00:00:00   737445          NaN   \n",
              "zone_id        4459064.0    NaN                  NaN      NaN  1059.060521   \n",
              "media_id       4459064.0    NaN                  NaN      NaN    86.253633   \n",
              "advertiser_id  4459064.0    NaN                  NaN      NaN  1642.385859   \n",
              "campaign_id    4459064.0    NaN                  NaN      NaN  8213.768762   \n",
              "domain           4380137  76574            orange.fr   175323          NaN   \n",
              "visibility     2295587.0    NaN                  NaN      NaN     1.559412   \n",
              "ad_id          4459064.0    NaN                  NaN      NaN  6769.986163   \n",
              "width          4459064.0    NaN                  NaN      NaN   438.832525   \n",
              "height         4459064.0    NaN                  NaN      NaN   271.299267   \n",
              "country_ref      4459064     12                   FR  3323243          NaN   \n",
              "device           4459064     17               chrome  1649852          NaN   \n",
              "imps           4459064.0    NaN                  NaN      NaN     3.451225   \n",
              "clicks         4459064.0    NaN                  NaN      NaN     0.075779   \n",
              "\n",
              "                       std   min     25%     50%     75%      max  \n",
              "date                   NaN   NaN     NaN     NaN     NaN      NaN  \n",
              "zone_id         613.022056   1.0   700.0   869.0  1183.0   2928.0  \n",
              "media_id         28.829773   1.0    74.0    87.0    94.0    187.0  \n",
              "advertiser_id   499.539594   0.0  1604.0  1611.0  1627.0   3210.0  \n",
              "campaign_id    2497.676896   2.0  8024.0  8059.0  8135.0  16054.0  \n",
              "domain                 NaN   NaN     NaN     NaN     NaN      NaN  \n",
              "visibility        0.496458   1.0     1.0     2.0     2.0      2.0  \n",
              "ad_id          3529.310694   1.0  4768.0  6826.0  9719.0  15318.0  \n",
              "width           288.282661  19.0   300.0   300.0   728.0   1800.0  \n",
              "height          211.540037  11.0    90.0   250.0   250.0   1000.0  \n",
              "country_ref            NaN   NaN     NaN     NaN     NaN      NaN  \n",
              "device                 NaN   NaN     NaN     NaN     NaN      NaN  \n",
              "imps             30.911394   1.0     1.0     1.0     2.0  18203.0  \n",
              "clicks             1.33348   0.0     0.0     0.0     0.0    694.0  "
            ],
            "text/html": [
              "\n",
              "  <div id=\"df-cfc39339-7da9-4ad0-b8cc-ad74f07a0218\">\n",
              "    <div class=\"colab-df-container\">\n",
              "      <div>\n",
              "<style scoped>\n",
              "    .dataframe tbody tr th:only-of-type {\n",
              "        vertical-align: middle;\n",
              "    }\n",
              "\n",
              "    .dataframe tbody tr th {\n",
              "        vertical-align: top;\n",
              "    }\n",
              "\n",
              "    .dataframe thead th {\n",
              "        text-align: right;\n",
              "    }\n",
              "</style>\n",
              "<table border=\"1\" class=\"dataframe\">\n",
              "  <thead>\n",
              "    <tr style=\"text-align: right;\">\n",
              "      <th></th>\n",
              "      <th>count</th>\n",
              "      <th>unique</th>\n",
              "      <th>top</th>\n",
              "      <th>freq</th>\n",
              "      <th>mean</th>\n",
              "      <th>std</th>\n",
              "      <th>min</th>\n",
              "      <th>25%</th>\n",
              "      <th>50%</th>\n",
              "      <th>75%</th>\n",
              "      <th>max</th>\n",
              "    </tr>\n",
              "  </thead>\n",
              "  <tbody>\n",
              "    <tr>\n",
              "      <th>date</th>\n",
              "      <td>4459065</td>\n",
              "      <td>9</td>\n",
              "      <td>2017-05-01 00:00:00</td>\n",
              "      <td>737445</td>\n",
              "      <td>NaN</td>\n",
              "      <td>NaN</td>\n",
              "      <td>NaN</td>\n",
              "      <td>NaN</td>\n",
              "      <td>NaN</td>\n",
              "      <td>NaN</td>\n",
              "      <td>NaN</td>\n",
              "    </tr>\n",
              "    <tr>\n",
              "      <th>zone_id</th>\n",
              "      <td>4459064.0</td>\n",
              "      <td>NaN</td>\n",
              "      <td>NaN</td>\n",
              "      <td>NaN</td>\n",
              "      <td>1059.060521</td>\n",
              "      <td>613.022056</td>\n",
              "      <td>1.0</td>\n",
              "      <td>700.0</td>\n",
              "      <td>869.0</td>\n",
              "      <td>1183.0</td>\n",
              "      <td>2928.0</td>\n",
              "    </tr>\n",
              "    <tr>\n",
              "      <th>media_id</th>\n",
              "      <td>4459064.0</td>\n",
              "      <td>NaN</td>\n",
              "      <td>NaN</td>\n",
              "      <td>NaN</td>\n",
              "      <td>86.253633</td>\n",
              "      <td>28.829773</td>\n",
              "      <td>1.0</td>\n",
              "      <td>74.0</td>\n",
              "      <td>87.0</td>\n",
              "      <td>94.0</td>\n",
              "      <td>187.0</td>\n",
              "    </tr>\n",
              "    <tr>\n",
              "      <th>advertiser_id</th>\n",
              "      <td>4459064.0</td>\n",
              "      <td>NaN</td>\n",
              "      <td>NaN</td>\n",
              "      <td>NaN</td>\n",
              "      <td>1642.385859</td>\n",
              "      <td>499.539594</td>\n",
              "      <td>0.0</td>\n",
              "      <td>1604.0</td>\n",
              "      <td>1611.0</td>\n",
              "      <td>1627.0</td>\n",
              "      <td>3210.0</td>\n",
              "    </tr>\n",
              "    <tr>\n",
              "      <th>campaign_id</th>\n",
              "      <td>4459064.0</td>\n",
              "      <td>NaN</td>\n",
              "      <td>NaN</td>\n",
              "      <td>NaN</td>\n",
              "      <td>8213.768762</td>\n",
              "      <td>2497.676896</td>\n",
              "      <td>2.0</td>\n",
              "      <td>8024.0</td>\n",
              "      <td>8059.0</td>\n",
              "      <td>8135.0</td>\n",
              "      <td>16054.0</td>\n",
              "    </tr>\n",
              "    <tr>\n",
              "      <th>domain</th>\n",
              "      <td>4380137</td>\n",
              "      <td>76574</td>\n",
              "      <td>orange.fr</td>\n",
              "      <td>175323</td>\n",
              "      <td>NaN</td>\n",
              "      <td>NaN</td>\n",
              "      <td>NaN</td>\n",
              "      <td>NaN</td>\n",
              "      <td>NaN</td>\n",
              "      <td>NaN</td>\n",
              "      <td>NaN</td>\n",
              "    </tr>\n",
              "    <tr>\n",
              "      <th>visibility</th>\n",
              "      <td>2295587.0</td>\n",
              "      <td>NaN</td>\n",
              "      <td>NaN</td>\n",
              "      <td>NaN</td>\n",
              "      <td>1.559412</td>\n",
              "      <td>0.496458</td>\n",
              "      <td>1.0</td>\n",
              "      <td>1.0</td>\n",
              "      <td>2.0</td>\n",
              "      <td>2.0</td>\n",
              "      <td>2.0</td>\n",
              "    </tr>\n",
              "    <tr>\n",
              "      <th>ad_id</th>\n",
              "      <td>4459064.0</td>\n",
              "      <td>NaN</td>\n",
              "      <td>NaN</td>\n",
              "      <td>NaN</td>\n",
              "      <td>6769.986163</td>\n",
              "      <td>3529.310694</td>\n",
              "      <td>1.0</td>\n",
              "      <td>4768.0</td>\n",
              "      <td>6826.0</td>\n",
              "      <td>9719.0</td>\n",
              "      <td>15318.0</td>\n",
              "    </tr>\n",
              "    <tr>\n",
              "      <th>width</th>\n",
              "      <td>4459064.0</td>\n",
              "      <td>NaN</td>\n",
              "      <td>NaN</td>\n",
              "      <td>NaN</td>\n",
              "      <td>438.832525</td>\n",
              "      <td>288.282661</td>\n",
              "      <td>19.0</td>\n",
              "      <td>300.0</td>\n",
              "      <td>300.0</td>\n",
              "      <td>728.0</td>\n",
              "      <td>1800.0</td>\n",
              "    </tr>\n",
              "    <tr>\n",
              "      <th>height</th>\n",
              "      <td>4459064.0</td>\n",
              "      <td>NaN</td>\n",
              "      <td>NaN</td>\n",
              "      <td>NaN</td>\n",
              "      <td>271.299267</td>\n",
              "      <td>211.540037</td>\n",
              "      <td>11.0</td>\n",
              "      <td>90.0</td>\n",
              "      <td>250.0</td>\n",
              "      <td>250.0</td>\n",
              "      <td>1000.0</td>\n",
              "    </tr>\n",
              "    <tr>\n",
              "      <th>country_ref</th>\n",
              "      <td>4459064</td>\n",
              "      <td>12</td>\n",
              "      <td>FR</td>\n",
              "      <td>3323243</td>\n",
              "      <td>NaN</td>\n",
              "      <td>NaN</td>\n",
              "      <td>NaN</td>\n",
              "      <td>NaN</td>\n",
              "      <td>NaN</td>\n",
              "      <td>NaN</td>\n",
              "      <td>NaN</td>\n",
              "    </tr>\n",
              "    <tr>\n",
              "      <th>device</th>\n",
              "      <td>4459064</td>\n",
              "      <td>17</td>\n",
              "      <td>chrome</td>\n",
              "      <td>1649852</td>\n",
              "      <td>NaN</td>\n",
              "      <td>NaN</td>\n",
              "      <td>NaN</td>\n",
              "      <td>NaN</td>\n",
              "      <td>NaN</td>\n",
              "      <td>NaN</td>\n",
              "      <td>NaN</td>\n",
              "    </tr>\n",
              "    <tr>\n",
              "      <th>imps</th>\n",
              "      <td>4459064.0</td>\n",
              "      <td>NaN</td>\n",
              "      <td>NaN</td>\n",
              "      <td>NaN</td>\n",
              "      <td>3.451225</td>\n",
              "      <td>30.911394</td>\n",
              "      <td>1.0</td>\n",
              "      <td>1.0</td>\n",
              "      <td>1.0</td>\n",
              "      <td>2.0</td>\n",
              "      <td>18203.0</td>\n",
              "    </tr>\n",
              "    <tr>\n",
              "      <th>clicks</th>\n",
              "      <td>4459064.0</td>\n",
              "      <td>NaN</td>\n",
              "      <td>NaN</td>\n",
              "      <td>NaN</td>\n",
              "      <td>0.075779</td>\n",
              "      <td>1.33348</td>\n",
              "      <td>0.0</td>\n",
              "      <td>0.0</td>\n",
              "      <td>0.0</td>\n",
              "      <td>0.0</td>\n",
              "      <td>694.0</td>\n",
              "    </tr>\n",
              "  </tbody>\n",
              "</table>\n",
              "</div>\n",
              "      <button class=\"colab-df-convert\" onclick=\"convertToInteractive('df-cfc39339-7da9-4ad0-b8cc-ad74f07a0218')\"\n",
              "              title=\"Convert this dataframe to an interactive table.\"\n",
              "              style=\"display:none;\">\n",
              "        \n",
              "  <svg xmlns=\"http://www.w3.org/2000/svg\" height=\"24px\"viewBox=\"0 0 24 24\"\n",
              "       width=\"24px\">\n",
              "    <path d=\"M0 0h24v24H0V0z\" fill=\"none\"/>\n",
              "    <path d=\"M18.56 5.44l.94 2.06.94-2.06 2.06-.94-2.06-.94-.94-2.06-.94 2.06-2.06.94zm-11 1L8.5 8.5l.94-2.06 2.06-.94-2.06-.94L8.5 2.5l-.94 2.06-2.06.94zm10 10l.94 2.06.94-2.06 2.06-.94-2.06-.94-.94-2.06-.94 2.06-2.06.94z\"/><path d=\"M17.41 7.96l-1.37-1.37c-.4-.4-.92-.59-1.43-.59-.52 0-1.04.2-1.43.59L10.3 9.45l-7.72 7.72c-.78.78-.78 2.05 0 2.83L4 21.41c.39.39.9.59 1.41.59.51 0 1.02-.2 1.41-.59l7.78-7.78 2.81-2.81c.8-.78.8-2.07 0-2.86zM5.41 20L4 18.59l7.72-7.72 1.47 1.35L5.41 20z\"/>\n",
              "  </svg>\n",
              "      </button>\n",
              "      \n",
              "  <style>\n",
              "    .colab-df-container {\n",
              "      display:flex;\n",
              "      flex-wrap:wrap;\n",
              "      gap: 12px;\n",
              "    }\n",
              "\n",
              "    .colab-df-convert {\n",
              "      background-color: #E8F0FE;\n",
              "      border: none;\n",
              "      border-radius: 50%;\n",
              "      cursor: pointer;\n",
              "      display: none;\n",
              "      fill: #1967D2;\n",
              "      height: 32px;\n",
              "      padding: 0 0 0 0;\n",
              "      width: 32px;\n",
              "    }\n",
              "\n",
              "    .colab-df-convert:hover {\n",
              "      background-color: #E2EBFA;\n",
              "      box-shadow: 0px 1px 2px rgba(60, 64, 67, 0.3), 0px 1px 3px 1px rgba(60, 64, 67, 0.15);\n",
              "      fill: #174EA6;\n",
              "    }\n",
              "\n",
              "    [theme=dark] .colab-df-convert {\n",
              "      background-color: #3B4455;\n",
              "      fill: #D2E3FC;\n",
              "    }\n",
              "\n",
              "    [theme=dark] .colab-df-convert:hover {\n",
              "      background-color: #434B5C;\n",
              "      box-shadow: 0px 1px 3px 1px rgba(0, 0, 0, 0.15);\n",
              "      filter: drop-shadow(0px 1px 2px rgba(0, 0, 0, 0.3));\n",
              "      fill: #FFFFFF;\n",
              "    }\n",
              "  </style>\n",
              "\n",
              "      <script>\n",
              "        const buttonEl =\n",
              "          document.querySelector('#df-cfc39339-7da9-4ad0-b8cc-ad74f07a0218 button.colab-df-convert');\n",
              "        buttonEl.style.display =\n",
              "          google.colab.kernel.accessAllowed ? 'block' : 'none';\n",
              "\n",
              "        async function convertToInteractive(key) {\n",
              "          const element = document.querySelector('#df-cfc39339-7da9-4ad0-b8cc-ad74f07a0218');\n",
              "          const dataTable =\n",
              "            await google.colab.kernel.invokeFunction('convertToInteractive',\n",
              "                                                     [key], {});\n",
              "          if (!dataTable) return;\n",
              "\n",
              "          const docLinkHtml = 'Like what you see? Visit the ' +\n",
              "            '<a target=\"_blank\" href=https://colab.research.google.com/notebooks/data_table.ipynb>data table notebook</a>'\n",
              "            + ' to learn more about interactive tables.';\n",
              "          element.innerHTML = '';\n",
              "          dataTable['output_type'] = 'display_data';\n",
              "          await google.colab.output.renderOutput(dataTable, element);\n",
              "          const docLink = document.createElement('div');\n",
              "          docLink.innerHTML = docLinkHtml;\n",
              "          element.appendChild(docLink);\n",
              "        }\n",
              "      </script>\n",
              "    </div>\n",
              "  </div>\n",
              "  "
            ]
          },
          "metadata": {},
          "execution_count": 17
        }
      ]
    },
    {
      "cell_type": "code",
      "source": [
        "print(df_train.info())\n",
        "print(df_train.columns)"
      ],
      "metadata": {
        "id": "iRljqPettIZJ",
        "colab": {
          "base_uri": "https://localhost:8080/"
        },
        "outputId": "bb0b2e00-33ae-45d2-8cde-d83f8df900fb"
      },
      "execution_count": null,
      "outputs": [
        {
          "output_type": "stream",
          "name": "stdout",
          "text": [
            "<class 'pandas.core.frame.DataFrame'>\n",
            "RangeIndex: 4459065 entries, 0 to 4459064\n",
            "Data columns (total 14 columns):\n",
            " #   Column         Dtype  \n",
            "---  ------         -----  \n",
            " 0   date           object \n",
            " 1   zone_id        float64\n",
            " 2   media_id       float64\n",
            " 3   advertiser_id  float64\n",
            " 4   campaign_id    float64\n",
            " 5   domain         object \n",
            " 6   visibility     float64\n",
            " 7   ad_id          float64\n",
            " 8   width          float64\n",
            " 9   height         float64\n",
            " 10  country_ref    object \n",
            " 11  device         object \n",
            " 12  imps           float64\n",
            " 13  clicks         float64\n",
            "dtypes: float64(10), object(4)\n",
            "memory usage: 476.3+ MB\n",
            "None\n",
            "Index(['date', 'zone_id', 'media_id', 'advertiser_id', 'campaign_id', 'domain',\n",
            "       'visibility', 'ad_id', 'width', 'height', 'country_ref', 'device',\n",
            "       'imps', 'clicks'],\n",
            "      dtype='object')\n"
          ]
        }
      ]
    },
    {
      "cell_type": "code",
      "source": [
        "print(df_train.shape)\n",
        "print(df_test_final.shape)\n",
        "print(100*df_train.isna().sum()/df_train.shape[0])"
      ],
      "metadata": {
        "id": "9NjrnyV2lf_w",
        "colab": {
          "base_uri": "https://localhost:8080/"
        },
        "outputId": "f36ea7cb-e472-42ba-e617-5f340bc290c8"
      },
      "execution_count": null,
      "outputs": [
        {
          "output_type": "stream",
          "name": "stdout",
          "text": [
            "(4459065, 14)\n",
            "(2019086, 13)\n",
            "date              0.000000\n",
            "zone_id           0.000022\n",
            "media_id          0.000022\n",
            "advertiser_id     0.000022\n",
            "campaign_id       0.000022\n",
            "domain            1.770057\n",
            "visibility       48.518647\n",
            "ad_id             0.000022\n",
            "width             0.000022\n",
            "height            0.000022\n",
            "country_ref       0.000022\n",
            "device            0.000022\n",
            "imps              0.000022\n",
            "clicks            0.000022\n",
            "dtype: float64\n"
          ]
        }
      ]
    },
    {
      "cell_type": "code",
      "source": [
        "print(len(df_train['domain'].unique()))\n",
        "print(len(df_train['device'].unique()))"
      ],
      "metadata": {
        "id": "5AhxHKF6rwLw",
        "colab": {
          "base_uri": "https://localhost:8080/"
        },
        "outputId": "f2596ac0-88c8-400a-af15-ab5774dab033"
      },
      "execution_count": null,
      "outputs": [
        {
          "output_type": "stream",
          "name": "stdout",
          "text": [
            "76575\n",
            "18\n"
          ]
        }
      ]
    },
    {
      "cell_type": "markdown",
      "source": [
        "# **Feature engineering**"
      ],
      "metadata": {
        "id": "dbUSqwHu_cEn"
      }
    },
    {
      "cell_type": "code",
      "source": [
        "df_train['CTR'] = df_train['clicks']/df_train['imps']"
      ],
      "metadata": {
        "id": "A1lzMsJfpaBF"
      },
      "execution_count": null,
      "outputs": []
    },
    {
      "cell_type": "code",
      "source": [
        "def encode_categorical(column_name):\n",
        "  # Create encoder\n",
        "  ordinal_encoder = OrdinalEncoder(handle_unknown='use_encoded_value',unknown_value=-1)\n",
        "\n",
        "  # Fit on training data\n",
        "  ordinal_encoder.fit(df_train[column_name].values.reshape(-1, 1))\n",
        "\n",
        "  # Transform the training and test data\n",
        "  df_train[column_name] = ordinal_encoder.transform(df_train[column_name].values.reshape(-1, 1)).astype(int)\n",
        "  df_test_final[column_name] = ordinal_encoder.transform(df_test_final[column_name].values.reshape(-1, 1)).astype(int)\n",
        "  return df_train[column_name], df_test_final[column_name]"
      ],
      "metadata": {
        "id": "M5bbY59u7Rf-"
      },
      "execution_count": null,
      "outputs": []
    },
    {
      "cell_type": "code",
      "source": [
        "df_train['domain'], df_test_final['domain'] = encode_categorical('domain')\n",
        "df_train['device'], df_test_final['device'] = encode_categorical('device')\n",
        "df_train['country_ref'], df_test_final['country_ref'] = encode_categorical('country_ref')\n",
        "df_train['date'], df_test_final['date'] = encode_categorical('date')"
      ],
      "metadata": {
        "id": "Hn0i-nlJrN4o"
      },
      "execution_count": null,
      "outputs": []
    },
    {
      "cell_type": "code",
      "source": [
        "# df_train = df_train.interpolate()\n",
        "# df_train['visibility'] = df_train['visibility'].apply(round)\n",
        "df_train['visibility'] = df_train['visibility'].fillna(-1)\n",
        "df_test_final['visibility'] = df_test_final['visibility'].fillna(-1)\n",
        "print(100*df_train.isna().sum()/df_train.shape[0])\n",
        "df_train.head()"
      ],
      "metadata": {
        "id": "BnxUB3aj2ktR",
        "colab": {
          "base_uri": "https://localhost:8080/",
          "height": 498
        },
        "outputId": "46654bc7-a9bf-421a-d337-bc92f43af087"
      },
      "execution_count": null,
      "outputs": [
        {
          "output_type": "stream",
          "name": "stdout",
          "text": [
            "date             0.000000\n",
            "zone_id          0.000022\n",
            "media_id         0.000022\n",
            "advertiser_id    0.000022\n",
            "campaign_id      0.000022\n",
            "domain           0.000000\n",
            "visibility       0.000000\n",
            "ad_id            0.000022\n",
            "width            0.000022\n",
            "height           0.000022\n",
            "country_ref      0.000000\n",
            "device           0.000000\n",
            "imps             0.000022\n",
            "clicks           0.000022\n",
            "CTR              0.000022\n",
            "dtype: float64\n"
          ]
        },
        {
          "output_type": "execute_result",
          "data": {
            "text/plain": [
              "   date  zone_id  media_id  advertiser_id  campaign_id  domain  visibility  \\\n",
              "0     2   2794.0     149.0         3206.0      16034.0   23125         1.0   \n",
              "1     6    879.0      77.0         1612.0       8060.0   60228        -1.0   \n",
              "2     7   1321.0     119.0         2061.0      10306.0    2578         2.0   \n",
              "3     4   2347.0      77.0         1605.0       8029.0   72351        -1.0   \n",
              "4     2    931.0      90.0         1604.0       8023.0   51376        -1.0   \n",
              "\n",
              "     ad_id   width  height  country_ref  device  imps  clicks  CTR  \n",
              "0  14885.0   250.0   250.0           11      12   1.0     0.0  0.0  \n",
              "1   7126.0   300.0   250.0            7       5   2.0     0.0  0.0  \n",
              "2  11696.0   320.0    50.0            9       8   1.0     0.0  0.0  \n",
              "3   5837.0  1000.0    90.0            7       5   1.0     0.0  0.0  \n",
              "4   7414.0   300.0   250.0            7       5   1.0     0.0  0.0  "
            ],
            "text/html": [
              "\n",
              "  <div id=\"df-995b4fa9-f188-44f1-868f-8df9f8d6507a\">\n",
              "    <div class=\"colab-df-container\">\n",
              "      <div>\n",
              "<style scoped>\n",
              "    .dataframe tbody tr th:only-of-type {\n",
              "        vertical-align: middle;\n",
              "    }\n",
              "\n",
              "    .dataframe tbody tr th {\n",
              "        vertical-align: top;\n",
              "    }\n",
              "\n",
              "    .dataframe thead th {\n",
              "        text-align: right;\n",
              "    }\n",
              "</style>\n",
              "<table border=\"1\" class=\"dataframe\">\n",
              "  <thead>\n",
              "    <tr style=\"text-align: right;\">\n",
              "      <th></th>\n",
              "      <th>date</th>\n",
              "      <th>zone_id</th>\n",
              "      <th>media_id</th>\n",
              "      <th>advertiser_id</th>\n",
              "      <th>campaign_id</th>\n",
              "      <th>domain</th>\n",
              "      <th>visibility</th>\n",
              "      <th>ad_id</th>\n",
              "      <th>width</th>\n",
              "      <th>height</th>\n",
              "      <th>country_ref</th>\n",
              "      <th>device</th>\n",
              "      <th>imps</th>\n",
              "      <th>clicks</th>\n",
              "      <th>CTR</th>\n",
              "    </tr>\n",
              "  </thead>\n",
              "  <tbody>\n",
              "    <tr>\n",
              "      <th>0</th>\n",
              "      <td>2</td>\n",
              "      <td>2794.0</td>\n",
              "      <td>149.0</td>\n",
              "      <td>3206.0</td>\n",
              "      <td>16034.0</td>\n",
              "      <td>23125</td>\n",
              "      <td>1.0</td>\n",
              "      <td>14885.0</td>\n",
              "      <td>250.0</td>\n",
              "      <td>250.0</td>\n",
              "      <td>11</td>\n",
              "      <td>12</td>\n",
              "      <td>1.0</td>\n",
              "      <td>0.0</td>\n",
              "      <td>0.0</td>\n",
              "    </tr>\n",
              "    <tr>\n",
              "      <th>1</th>\n",
              "      <td>6</td>\n",
              "      <td>879.0</td>\n",
              "      <td>77.0</td>\n",
              "      <td>1612.0</td>\n",
              "      <td>8060.0</td>\n",
              "      <td>60228</td>\n",
              "      <td>-1.0</td>\n",
              "      <td>7126.0</td>\n",
              "      <td>300.0</td>\n",
              "      <td>250.0</td>\n",
              "      <td>7</td>\n",
              "      <td>5</td>\n",
              "      <td>2.0</td>\n",
              "      <td>0.0</td>\n",
              "      <td>0.0</td>\n",
              "    </tr>\n",
              "    <tr>\n",
              "      <th>2</th>\n",
              "      <td>7</td>\n",
              "      <td>1321.0</td>\n",
              "      <td>119.0</td>\n",
              "      <td>2061.0</td>\n",
              "      <td>10306.0</td>\n",
              "      <td>2578</td>\n",
              "      <td>2.0</td>\n",
              "      <td>11696.0</td>\n",
              "      <td>320.0</td>\n",
              "      <td>50.0</td>\n",
              "      <td>9</td>\n",
              "      <td>8</td>\n",
              "      <td>1.0</td>\n",
              "      <td>0.0</td>\n",
              "      <td>0.0</td>\n",
              "    </tr>\n",
              "    <tr>\n",
              "      <th>3</th>\n",
              "      <td>4</td>\n",
              "      <td>2347.0</td>\n",
              "      <td>77.0</td>\n",
              "      <td>1605.0</td>\n",
              "      <td>8029.0</td>\n",
              "      <td>72351</td>\n",
              "      <td>-1.0</td>\n",
              "      <td>5837.0</td>\n",
              "      <td>1000.0</td>\n",
              "      <td>90.0</td>\n",
              "      <td>7</td>\n",
              "      <td>5</td>\n",
              "      <td>1.0</td>\n",
              "      <td>0.0</td>\n",
              "      <td>0.0</td>\n",
              "    </tr>\n",
              "    <tr>\n",
              "      <th>4</th>\n",
              "      <td>2</td>\n",
              "      <td>931.0</td>\n",
              "      <td>90.0</td>\n",
              "      <td>1604.0</td>\n",
              "      <td>8023.0</td>\n",
              "      <td>51376</td>\n",
              "      <td>-1.0</td>\n",
              "      <td>7414.0</td>\n",
              "      <td>300.0</td>\n",
              "      <td>250.0</td>\n",
              "      <td>7</td>\n",
              "      <td>5</td>\n",
              "      <td>1.0</td>\n",
              "      <td>0.0</td>\n",
              "      <td>0.0</td>\n",
              "    </tr>\n",
              "  </tbody>\n",
              "</table>\n",
              "</div>\n",
              "      <button class=\"colab-df-convert\" onclick=\"convertToInteractive('df-995b4fa9-f188-44f1-868f-8df9f8d6507a')\"\n",
              "              title=\"Convert this dataframe to an interactive table.\"\n",
              "              style=\"display:none;\">\n",
              "        \n",
              "  <svg xmlns=\"http://www.w3.org/2000/svg\" height=\"24px\"viewBox=\"0 0 24 24\"\n",
              "       width=\"24px\">\n",
              "    <path d=\"M0 0h24v24H0V0z\" fill=\"none\"/>\n",
              "    <path d=\"M18.56 5.44l.94 2.06.94-2.06 2.06-.94-2.06-.94-.94-2.06-.94 2.06-2.06.94zm-11 1L8.5 8.5l.94-2.06 2.06-.94-2.06-.94L8.5 2.5l-.94 2.06-2.06.94zm10 10l.94 2.06.94-2.06 2.06-.94-2.06-.94-.94-2.06-.94 2.06-2.06.94z\"/><path d=\"M17.41 7.96l-1.37-1.37c-.4-.4-.92-.59-1.43-.59-.52 0-1.04.2-1.43.59L10.3 9.45l-7.72 7.72c-.78.78-.78 2.05 0 2.83L4 21.41c.39.39.9.59 1.41.59.51 0 1.02-.2 1.41-.59l7.78-7.78 2.81-2.81c.8-.78.8-2.07 0-2.86zM5.41 20L4 18.59l7.72-7.72 1.47 1.35L5.41 20z\"/>\n",
              "  </svg>\n",
              "      </button>\n",
              "      \n",
              "  <style>\n",
              "    .colab-df-container {\n",
              "      display:flex;\n",
              "      flex-wrap:wrap;\n",
              "      gap: 12px;\n",
              "    }\n",
              "\n",
              "    .colab-df-convert {\n",
              "      background-color: #E8F0FE;\n",
              "      border: none;\n",
              "      border-radius: 50%;\n",
              "      cursor: pointer;\n",
              "      display: none;\n",
              "      fill: #1967D2;\n",
              "      height: 32px;\n",
              "      padding: 0 0 0 0;\n",
              "      width: 32px;\n",
              "    }\n",
              "\n",
              "    .colab-df-convert:hover {\n",
              "      background-color: #E2EBFA;\n",
              "      box-shadow: 0px 1px 2px rgba(60, 64, 67, 0.3), 0px 1px 3px 1px rgba(60, 64, 67, 0.15);\n",
              "      fill: #174EA6;\n",
              "    }\n",
              "\n",
              "    [theme=dark] .colab-df-convert {\n",
              "      background-color: #3B4455;\n",
              "      fill: #D2E3FC;\n",
              "    }\n",
              "\n",
              "    [theme=dark] .colab-df-convert:hover {\n",
              "      background-color: #434B5C;\n",
              "      box-shadow: 0px 1px 3px 1px rgba(0, 0, 0, 0.15);\n",
              "      filter: drop-shadow(0px 1px 2px rgba(0, 0, 0, 0.3));\n",
              "      fill: #FFFFFF;\n",
              "    }\n",
              "  </style>\n",
              "\n",
              "      <script>\n",
              "        const buttonEl =\n",
              "          document.querySelector('#df-995b4fa9-f188-44f1-868f-8df9f8d6507a button.colab-df-convert');\n",
              "        buttonEl.style.display =\n",
              "          google.colab.kernel.accessAllowed ? 'block' : 'none';\n",
              "\n",
              "        async function convertToInteractive(key) {\n",
              "          const element = document.querySelector('#df-995b4fa9-f188-44f1-868f-8df9f8d6507a');\n",
              "          const dataTable =\n",
              "            await google.colab.kernel.invokeFunction('convertToInteractive',\n",
              "                                                     [key], {});\n",
              "          if (!dataTable) return;\n",
              "\n",
              "          const docLinkHtml = 'Like what you see? Visit the ' +\n",
              "            '<a target=\"_blank\" href=https://colab.research.google.com/notebooks/data_table.ipynb>data table notebook</a>'\n",
              "            + ' to learn more about interactive tables.';\n",
              "          element.innerHTML = '';\n",
              "          dataTable['output_type'] = 'display_data';\n",
              "          await google.colab.output.renderOutput(dataTable, element);\n",
              "          const docLink = document.createElement('div');\n",
              "          docLink.innerHTML = docLinkHtml;\n",
              "          element.appendChild(docLink);\n",
              "        }\n",
              "      </script>\n",
              "    </div>\n",
              "  </div>\n",
              "  "
            ]
          },
          "metadata": {},
          "execution_count": 24
        }
      ]
    },
    {
      "cell_type": "code",
      "source": [
        "plt.figure(figsize=(12, 7))\n",
        "sns.heatmap(df_train.corr(), annot = True, vmin = -1, vmax = 1)\n",
        "plt.show()"
      ],
      "metadata": {
        "id": "B1vCM3AWdgiO",
        "colab": {
          "base_uri": "https://localhost:8080/",
          "height": 488
        },
        "outputId": "98fa7313-c3dd-4378-c5a9-f052a17fe3c7"
      },
      "execution_count": null,
      "outputs": [
        {
          "output_type": "display_data",
          "data": {
            "text/plain": [
              "<Figure size 864x504 with 2 Axes>"
            ],
            "image/png": "[encoded data removed]"
          },
          "metadata": {
            "needs_background": "light"
          }
        }
      ]
    },
    {
      "cell_type": "code",
      "source": [
        "# df_train_oversample = df_train[df_train['clicks']<min(pd.value_counts(df_train['clicks'])[-163:].index)]\n",
        "# pd.value_counts(df_train_oversample['clicks'])\n",
        "# columns = ['date', 'zone_id', 'media_id', 'advertiser_id', 'campaign_id', 'domain',\n",
        "#        'visibility', 'ad_id', 'width', 'height', 'country_ref', 'device',\n",
        "#        'imps']\n",
        "# X_train_resample, X_val_resample, y_train_resample, y_val_resample = train_test_split(df_train_oversample[columns], df_train_oversample['clicks'], test_size=0.33, random_state=42)\n",
        "# from imblearn.over_sampling import RandomOverSampler\n",
        "# ros = RandomOverSampler(random_state=0)\n",
        "# ros.fit_resample(X_train_resample,y_train_resample)\n",
        "# from collections import Counter\n",
        "# print(sorted(Counter(y_train_resample).items()))"
      ],
      "metadata": {
        "id": "reO9pEkObT3t"
      },
      "execution_count": null,
      "outputs": []
    },
    {
      "cell_type": "code",
      "source": [
        "columns = ['date','country_ref','zone_id', 'media_id', 'advertiser_id', 'campaign_id', 'domain',\n",
        "       'visibility', 'ad_id', 'width', 'height','device',\n",
        "       'imps']\n",
        "scaler = StandardScaler()\n",
        "\n",
        "X_train, X_val, y_train, y_val = train_test_split(df_train[columns], df_train['clicks'], test_size=0.20, random_state=42)\n",
        "X_test = df_test_final[columns]\n",
        "\n",
        "# X_val, X_val_tune, y_val, y_val_tune = train_test_split(df_train[columns], df_train['clicks'], test_size=0.50, random_state=42)\n",
        "\n",
        "y_train_scaled = y_train/max(y_train)\n",
        "y_val_scaled = y_val/max(y_train)\n",
        "\n",
        "X_train_scaled = scaler.fit_transform(X_train)\n",
        "X_val_scaled = scaler.fit_transform(X_val)\n",
        "# X_val_tune_scaled = scaler.transform(X_val_tune)\n",
        "X_test_scaled = scaler.fit_transform(df_test_final[columns])\n",
        "\n",
        "y_train_log = y_train.apply(lambda x: log(x+1))\n",
        "y_val_log = y_val.apply(lambda x: log(x+1))\n",
        "# y_val_tune_log = y_val_tune.apply(lambda x: log(x+1))"
      ],
      "metadata": {
        "id": "0zqnBxvHtspZ"
      },
      "execution_count": null,
      "outputs": []
    },
    {
      "cell_type": "code",
      "source": [
        "# columns = ['date','country_ref','zone_id', 'media_id', 'advertiser_id', 'campaign_id', 'domain',\n",
        "#        'visibility', 'ad_id', 'width', 'height','device',\n",
        "#        'imps']\n",
        "# scaler = StandardScaler()\n",
        "\n",
        "# X_train, X_val, y_train, y_val = train_test_split(df_train[columns], df_train['clicks'], test_size=0.15, random_state=42)\n",
        "# X_test = df_test_final[columns]\n",
        "\n",
        "# y_train_log = y_train.apply(lambda x: log(x+1))\n",
        "# y_val_log = y_val.apply(lambda x: log(x+1))"
      ],
      "metadata": {
        "id": "DYsq4d_QpWAG"
      },
      "execution_count": null,
      "outputs": []
    },
    {
      "cell_type": "code",
      "source": [
        "# Calculate the skewness\n",
        "print('Skewness with no preprocessing',skew(y_train, axis=0, bias=True))\n",
        "# Calculate the kurtosis\n",
        "print('Kurtosis with no preprocessing',kurtosis(y_train, axis=0, bias=True))\n",
        "# Calculate the skewness\n",
        "print('Skewness with logarithmic scaling',skew(y_train_log, axis=0, bias=True))\n",
        "# Calculate the kurtosis\n",
        "print('Kurtosis with with logarithmic scaling',kurtosis(y_train_log, axis=0, bias=True))\n",
        "# more weight in the left tail of the distribution. kurtosis > 3, leptokurtic produce more outliers than the normal distribution"
      ],
      "metadata": {
        "id": "HvBTfq_7u00h",
        "colab": {
          "base_uri": "https://localhost:8080/"
        },
        "outputId": "78ef3785-09b3-4973-915b-afe1c6d62256"
      },
      "execution_count": null,
      "outputs": [
        {
          "output_type": "stream",
          "name": "stdout",
          "text": [
            "Skewness with no preprocessing nan\n",
            "Kurtosis with no preprocessing nan\n",
            "Skewness with logarithmic scaling nan\n",
            "Kurtosis with with logarithmic scaling nan\n"
          ]
        }
      ]
    },
    {
      "cell_type": "code",
      "source": [
        "pd.value_counts(y_train_log[y_train_log>2]).plot.bar()"
      ],
      "metadata": {
        "id": "ViaWN8og3WZr",
        "colab": {
          "base_uri": "https://localhost:8080/",
          "height": 385
        },
        "outputId": "63d32085-4f02-4f5c-8b1b-245dc2e706b2"
      },
      "execution_count": null,
      "outputs": [
        {
          "output_type": "execute_result",
          "data": {
            "text/plain": [
              "<matplotlib.axes._subplots.AxesSubplot at 0x7f32a380dbb0>"
            ]
          },
          "metadata": {},
          "execution_count": 30
        },
        {
          "output_type": "display_data",
          "data": {
            "text/plain": [
              "<Figure size 432x288 with 1 Axes>"
            ],
            "image/png": "[encoded data removed]"
          },
          "metadata": {
            "needs_background": "light"
          }
        }
      ]
    },
    {
      "cell_type": "code",
      "source": [
        "y_train.hist()"
      ],
      "metadata": {
        "id": "KkBITuWwPEVa",
        "colab": {
          "base_uri": "https://localhost:8080/",
          "height": 294
        },
        "outputId": "8732c86e-7747-4b17-e630-8edc5b948f1a"
      },
      "execution_count": null,
      "outputs": [
        {
          "output_type": "execute_result",
          "data": {
            "text/plain": [
              "<matplotlib.axes._subplots.AxesSubplot at 0x7f329f548430>"
            ]
          },
          "metadata": {},
          "execution_count": 31
        },
        {
          "output_type": "display_data",
          "data": {
            "text/plain": [
              "<Figure size 432x288 with 1 Axes>"
            ],
            "image/png": "[encoded data removed]"
          },
          "metadata": {
            "needs_background": "light"
          }
        }
      ]
    },
    {
      "cell_type": "code",
      "source": [
        "y_train_log[y_train_log>2].hist()"
      ],
      "metadata": {
        "id": "ERr6nXr67gi-",
        "colab": {
          "base_uri": "https://localhost:8080/",
          "height": 283
        },
        "outputId": "77ed0145-c45f-4240-fce0-924ed9aa7a28"
      },
      "execution_count": null,
      "outputs": [
        {
          "output_type": "execute_result",
          "data": {
            "text/plain": [
              "<matplotlib.axes._subplots.AxesSubplot at 0x7f329f7532b0>"
            ]
          },
          "metadata": {},
          "execution_count": 32
        },
        {
          "output_type": "display_data",
          "data": {
            "text/plain": [
              "<Figure size 432x288 with 1 Axes>"
            ],
            "image/png": "[encoded data removed]"
          },
          "metadata": {
            "needs_background": "light"
          }
        }
      ]
    },
    {
      "cell_type": "code",
      "source": [
        "sm.qqplot(y_train, line ='45')\n",
        "py.show()"
      ],
      "metadata": {
        "id": "pUTnMEUR8rUJ",
        "colab": {
          "base_uri": "https://localhost:8080/",
          "height": 279
        },
        "outputId": "a83c277f-b903-42e8-bc67-c674266d5e3a"
      },
      "execution_count": null,
      "outputs": [
        {
          "output_type": "display_data",
          "data": {
            "text/plain": [
              "<Figure size 432x288 with 1 Axes>"
            ],
            "image/png": "[encoded data removed]"
          },
          "metadata": {
            "needs_background": "light"
          }
        }
      ]
    },
    {
      "cell_type": "code",
      "source": [
        "sm.qqplot(y_train_scaled, line ='45')\n",
        "py.show()"
      ],
      "metadata": {
        "id": "sHX_UiRY_FCr",
        "colab": {
          "base_uri": "https://localhost:8080/",
          "height": 279
        },
        "outputId": "9bfe40db-e19e-44c5-aaf3-3df16aea6ff5"
      },
      "execution_count": null,
      "outputs": [
        {
          "output_type": "display_data",
          "data": {
            "text/plain": [
              "<Figure size 432x288 with 1 Axes>"
            ],
            "image/png": "[encoded data removed]"
          },
          "metadata": {
            "needs_background": "light"
          }
        }
      ]
    },
    {
      "cell_type": "code",
      "source": [
        "sm.qqplot(y_train_log.values, line ='45')\n",
        "py.show()"
      ],
      "metadata": {
        "id": "agyjGM8j8hFT",
        "colab": {
          "base_uri": "https://localhost:8080/",
          "height": 279
        },
        "outputId": "434fb99c-0159-45a9-e657-5ff6be9865b8"
      },
      "execution_count": null,
      "outputs": [
        {
          "output_type": "display_data",
          "data": {
            "text/plain": [
              "<Figure size 432x288 with 1 Axes>"
            ],
            "image/png": "[encoded data removed]"
          },
          "metadata": {
            "needs_background": "light"
          }
        }
      ]
    },
    {
      "cell_type": "code",
      "source": [
        "# def compute_loss(model_chosen):\n",
        "#   global count_pass_try\n",
        "#   count_pass_try = 0\n",
        "#   loss_val = 0\n",
        "#   val_pred = model_chosen.predict(X_val)\n",
        "#   # val_pred = val_pred*max(y_train)\n",
        "#   for i in range(len(y_val)):\n",
        "#     Y_hat = val_pred[i]/X_val['imps'].iloc[i]\n",
        "#     # if Y_hat >=1:\n",
        "#     #   Y_hat = val_pred[i]/(1+X_val['imps'].iloc[i])\n",
        "#     Y_hat_bar = 1-Y_hat\n",
        "#     try:\n",
        "#       loss_val += X_val['imps'].iloc[i]*log(Y_hat_bar) + y_val.iloc[i]*log(Y_hat/Y_hat_bar)\n",
        "#     except:\n",
        "#       try:\n",
        "#         Y_hat = abs(Y_hat)\n",
        "#         Y_hat_bar = 1-Y_hat\n",
        "#         loss_val += X_val['imps'].iloc[i]*log(Y_hat_bar) + y_val.iloc[i]*log(Y_hat/Y_hat_bar)\n",
        "#       except:\n",
        "#         count_pass_try+=1\n",
        "#         pass\n",
        "#   return -loss_val/sum(X_val['imps'])\n",
        "\n",
        "# Linear_model = LinearRegression()\n",
        "# Linear_model.fit(X_train,y_train)\n",
        "# print('Error=',compute_loss(Linear_model))\n",
        "# # print(count_pass_try)\n",
        "\n",
        "# val_pred_linear = Linear_model.predict(X_val)\n",
        "# rmse = (mean_squared_error(y_val, val_pred_linear))**(0.5)\n",
        "# r2 = r2_score(y_val, val_pred_linear)\n",
        "# print(\"Linear regression: difference between actual and predicted values\", rmse)\n",
        "# print('R2: {:.2f}'.format(r2))\n",
        "\n",
        "# Ridge_model = Ridge(alpha=10)\n",
        "# Ridge_model.fit(X_train,y_train)\n",
        "\n",
        "# print('Error=',compute_loss(Ridge_model))\n",
        "# # print(count_pass_try)\n",
        "\n",
        "# val_pred_ridge = Ridge_model.predict(X_val)\n",
        "# rmse = (mean_squared_error(y_val, val_pred_ridge))**(0.5)\n",
        "# r2 = r2_score(y_val, val_pred_ridge)\n",
        "# print(\"Ridge: difference between actual and predicted values\", rmse)\n",
        "# print('R2: {:.2f}'.format(r2))\n",
        "\n",
        "# Lasso_model = Lasso(alpha=10)\n",
        "# Lasso_model.fit(X_train,y_train)\n",
        "\n",
        "# print('Error=',compute_loss(Lasso_model))\n",
        "# # print(count_pass_try)\n",
        "\n",
        "# val_pred_lasso = Lasso_model.predict(X_val)\n",
        "# rmse = (mean_squared_error(y_val, val_pred_lasso))**(0.5)\n",
        "# r2 = r2_score(y_val, val_pred_lasso)\n",
        "# print(\"Lasso: difference between actual and predicted values\", rmse)\n",
        "# print('R2: {:.2f}'.format(r2))"
      ],
      "metadata": {
        "id": "ZHcCYNJsH-GM"
      },
      "execution_count": null,
      "outputs": []
    },
    {
      "cell_type": "code",
      "source": [
        "# def compute_loss_scaled(model_chosen):\n",
        "#   global count_pass_try\n",
        "#   count_pass_try = 0\n",
        "#   loss_val = 0\n",
        "#   val_pred = model_chosen.predict(X_val_scaled)\n",
        "#   val_pred = val_pred*max(y_train)\n",
        "#   for i in range(len(y_val)):\n",
        "#     Y_hat = val_pred[i]/X_val['imps'].iloc[i]\n",
        "#     # if Y_hat >=1:\n",
        "#     #   Y_hat = val_pred[i]/(1+X_val['imps'].iloc[i])\n",
        "#     Y_hat_bar = 1-Y_hat\n",
        "#     try:\n",
        "#       loss_val += X_val['imps'].iloc[i]*log(Y_hat_bar) + y_val.iloc[i]*log(Y_hat/Y_hat_bar)\n",
        "#     except:\n",
        "#       try:\n",
        "#         Y_hat = abs(Y_hat)\n",
        "#         Y_hat_bar = 1-Y_hat\n",
        "#         loss_val += X_val['imps'].iloc[i]*log(Y_hat_bar) + y_val.iloc[i]*log(Y_hat/Y_hat_bar)\n",
        "#       except:\n",
        "#         count_pass_try+=1\n",
        "#         pass\n",
        "#   return -loss_val/sum(X_val['imps'])\n",
        "\n",
        "# Linear_model_scaled = LinearRegression()\n",
        "# Linear_model_scaled.fit(X_train_scaled,y_train_scaled)\n",
        "# print('Error=',compute_loss_scaled(Linear_model_scaled))\n",
        "# # print(count_pass_try)\n",
        "\n",
        "# val_pred_linear = Linear_model_scaled.predict(X_val_scaled)*max(y_train)\n",
        "# rmse = (mean_squared_error(y_val, val_pred_linear))**(0.5)\n",
        "# r2 = r2_score(y_val, val_pred_linear)\n",
        "# print(\"Linear regression scaled: difference between actual and predicted values\", rmse)\n",
        "# print('R2: {:.2f}'.format(r2))\n",
        "\n",
        "# Ridge_model_scaled = Ridge(alpha=10)\n",
        "# Ridge_model_scaled.fit(X_train_scaled,y_train_scaled)\n",
        "\n",
        "# print('Error=',compute_loss_scaled(Ridge_model_scaled))\n",
        "# # print(count_pass_try)\n",
        "\n",
        "# val_pred_ridge = Ridge_model_scaled.predict(X_val_scaled)*max(y_train)\n",
        "# rmse = (mean_squared_error(y_val, val_pred_ridge))**(0.5)\n",
        "# r2 = r2_score(y_val, val_pred_ridge)\n",
        "# print(\"Ridge scaled: difference between actual and predicted values\", rmse)\n",
        "# print('R2: {:.2f}'.format(r2))\n",
        "\n",
        "# Lasso_model_scaled = Lasso(alpha=10)\n",
        "# Lasso_model_scaled.fit(X_train_scaled,y_train_scaled)\n",
        "\n",
        "# print('Error=',compute_loss_scaled(Lasso_model_scaled))\n",
        "# # print(count_pass_try)\n",
        "\n",
        "# val_pred_lasso = Lasso_model_scaled.predict(X_val_scaled)*max(y_train)\n",
        "# rmse = (mean_squared_error(y_val, val_pred_lasso))**(0.5)\n",
        "# r2 = r2_score(y_val, val_pred_lasso)\n",
        "# print(\"Lasso scaled: difference between actual and predicted values\", rmse)\n",
        "# print('R2: {:.2f}'.format(r2))"
      ],
      "metadata": {
        "id": "_8Plp8mPGOjZ"
      },
      "execution_count": null,
      "outputs": []
    },
    {
      "cell_type": "code",
      "source": [
        "# def compute_loss_log_scaled(model_chosen):\n",
        "#   global count_pass_try\n",
        "#   count_pass_try = 0\n",
        "#   loss_val = 0\n",
        "#   val_pred = model_chosen.predict(X_val_scaled)\n",
        "#   val_pred = list(map(lambda x:exp(x)-1,val_pred))\n",
        "#   for i in range(len(y_val)):\n",
        "#     Y_hat = val_pred[i]/X_val['imps'].iloc[i]\n",
        "#     # if Y_hat >=1:\n",
        "#     #   Y_hat = val_pred[i]/(1+X_val['imps'].iloc[i])\n",
        "#     Y_hat_bar = 1-Y_hat\n",
        "#     try:\n",
        "#       loss_val += X_val['imps'].iloc[i]*log(Y_hat_bar) + y_val.iloc[i]*log(Y_hat/Y_hat_bar)\n",
        "#     except:\n",
        "#       try:\n",
        "#         Y_hat = abs(Y_hat)\n",
        "#         Y_hat_bar = 1-Y_hat\n",
        "#         loss_val += X_val['imps'].iloc[i]*log(Y_hat_bar) + y_val.iloc[i]*log(Y_hat/Y_hat_bar)\n",
        "#       except:\n",
        "#         count_pass_try+=1\n",
        "#         pass\n",
        "#   return -loss_val/sum(X_val['imps'])\n",
        "\n",
        "# Linear_model_log = LinearRegression()\n",
        "# Linear_model_log.fit(X_train_scaled,y_train_log)\n",
        "\n",
        "# print(compute_loss_log_scaled(Linear_model_log))\n",
        "\n",
        "# val_pred_linear = list(map(lambda x:exp(x)-1,Linear_model_log.predict(X_val_scaled)))\n",
        "# rmse = (mean_squared_error(y_val, val_pred_linear))**(0.5)\n",
        "# r2 = r2_score(y_val, val_pred_linear)\n",
        "# print(\"Linear regression log-scaled: difference between actual and predicted values\", rmse)\n",
        "# print('R2: {:.2f}'.format(r2))\n",
        "\n",
        "\n",
        "# Lasso_model_log = Lasso(alpha=10)\n",
        "# Lasso_model_log.fit(X_train_scaled,y_train_log)\n",
        "\n",
        "# print(compute_loss_log_scaled(Lasso_model_log))\n",
        "\n",
        "# val_pred_lasso = list(map(lambda x:exp(x)-1,Lasso_model_log.predict(X_val_scaled)))\n",
        "# rmse = (mean_squared_error(y_val, val_pred_lasso))**(0.5)\n",
        "# r2 = r2_score(y_val, val_pred_lasso)\n",
        "# print(\"Lasso regression log-scaled: difference between actual and predicted values\", rmse)\n",
        "# print('R2: {:.2f}'.format(r2))\n",
        "\n",
        "# Ridge_model_log = Ridge(alpha=10)\n",
        "# Ridge_model_log.fit(X_train_scaled,y_train_log)\n",
        "# # print(Ridge_model_log.coef_)\n",
        "\n",
        "# print(compute_loss_log_scaled(Ridge_model_log))\n",
        "# print(count_pass_try)\n",
        "\n",
        "# val_pred_ridge = list(map(lambda x:exp(x)-1,Ridge_model_log.predict(X_val_scaled)))\n",
        "# rmse = (mean_squared_error(y_val, val_pred_ridge))**(0.5)\n",
        "# r2 = r2_score(y_val, val_pred_ridge)\n",
        "# print(\"Ridge regression log-scaled: difference between actual and predicted values\", rmse)\n",
        "# print('R2: {:.2f}'.format(r2))"
      ],
      "metadata": {
        "id": "LbK2mCFKJJm8"
      },
      "execution_count": null,
      "outputs": []
    },
    {
      "cell_type": "code",
      "source": [
        "# from sklearn.linear_model import SGDRegressor, HuberRegressor, TheilSenRegressor\n",
        "# from sklearn.preprocessing import QuantileTransformer\n",
        "\n",
        "# pt = QuantileTransformer(output_distribution='normal', random_state=0)\n",
        "# testtttttt = pt.fit_transform(y_train_log.values.reshape(-1,1))\n",
        "# sm.qqplot(testtttttt, line ='45')\n",
        "# py.show()\n",
        "\n",
        "# Elastic_model_log = ElasticNet(max_iter=1000,warm_start=False,tol=0.0001,alpha=1.0, l1_ratio=0.5)\n",
        "# Elastic_model_log.fit(X_train_scaled,y_train_log)\n",
        "# print(Elastic_model_log.coef_)\n",
        "\n",
        "# print(compute_loss_log_scaled(Elastic_model_log))\n",
        "# print(count_pass_try)\n",
        "\n",
        "# val_pred_elastic = list(map(lambda x:exp(x)-1,Elastic_model_log.predict(X_val_scaled)))\n",
        "# rmse = (mean_squared_error(y_val, val_pred_elastic))**(0.5)\n",
        "# r2 = r2_score(y_val, val_pred_elastic)\n",
        "# print(\"The difference between actual and predicted values\", rmse)\n",
        "# print('R2: {:.2f}'.format(r2))\n",
        "\n",
        "# SGD_model_log = SGDRegressor(max_iter=1000, tol=1e-3)\n",
        "# SGD_model_log.fit(X_train_scaled,y_train_log)\n",
        "# print(SGD_model_log.coef_)\n",
        "\n",
        "# print(compute_loss_log_scaled(SGD_model_log))\n",
        "# print(count_pass_try)\n",
        "\n",
        "# val_pred_sgd = list(map(lambda x:exp(x)-1,SGD_model_log.predict(X_val_scaled)))\n",
        "# rmse = (mean_squared_error(y_val, val_pred_sgd))**(0.5)\n",
        "# r2 = r2_score(y_val, val_pred_sgd)\n",
        "# print(\"The difference between actual and predicted values\", rmse)\n",
        "# print('R2: {:.2f}'.format(r2))\n",
        "\n",
        "# SGD_model_log = SGDRegressor(max_iter=1000, tol=1e-3)\n",
        "# SGD_model_log.fit(X_train_scaled,y_train_log)\n",
        "# print(SGD_model_log.coef_)\n",
        "\n",
        "# print(compute_loss_log_scaled(SGD_model_log))\n",
        "# print(count_pass_try)\n",
        "\n",
        "# val_pred_sgd = list(map(lambda x:exp(x)-1,SGD_model_log.predict(X_val_scaled)))\n",
        "# rmse = (mean_squared_error(y_val, val_pred_sgd))**(0.5)\n",
        "# r2 = r2_score(y_val, val_pred_sgd)\n",
        "# print(\"The difference between actual and predicted values\", rmse)\n",
        "# print('R2: {:.2f}'.format(r2))"
      ],
      "metadata": {
        "id": "IluLLkK_si-N"
      },
      "execution_count": null,
      "outputs": []
    },
    {
      "cell_type": "code",
      "source": [
        "# from sklearn.utils.class_weight import compute_sample_weight\n",
        "# sample_weights = compute_sample_weight(class_weight='balanced', y=y_train_log)\n",
        "# sample_weights\n",
        "\n",
        "# class DerivativeCustomLoss(object):\n",
        "#     def calc_ders_range(self, approxes, targets):\n",
        "#         # This function should return a list of pairs (der1, der2), where\n",
        "#         # der1 is the first derivative of the loss function with respect\n",
        "#         # to the predicted value, and der2 is the second derivative.\n",
        "#         result = []\n",
        "#         for index in range(len(targets)):\n",
        "#             der1 = -((targets[index]/approxes[index])-((1-targets[index])/(X_train.iloc[index]-approxes[index])))\n",
        "#             der2 = (targets[index]/(approxes[index])^2) + ((1-targets[index])/(X_train.iloc[index]-targets[index])^2)                                   \n",
        "\n",
        "#             result.append((der1, der2))\n",
        "\n",
        "#         return result\n",
        "\n",
        "# def custom_loss(y_pred,y_true):\n",
        "#   loss_val = 0\n",
        "#   for i in range(len(y_true)):\n",
        "#     Y_hat = y_pred[i]/X_train['imps'].iloc[i]\n",
        "#     Y_hat_bar = 1-Y_hat\n",
        "#     print(Y_hat)\n",
        "#     try:\n",
        "#       loss_val += X_train['imps'].iloc[i]*log(Y_hat_bar) + y_true.iloc[i]*log(Y_hat/Y_hat_bar)\n",
        "#     except:\n",
        "#       try:\n",
        "#         Y_hat = abs(Y_hat)\n",
        "#         Y_hat_bar = 1-Y_hat\n",
        "#         loss_val += X_train['imps'].iloc[i]*log(Y_hat_bar) + y_true.iloc[i]*log(Y_hat/Y_hat_bar)\n",
        "#       except:\n",
        "#         pass\n",
        "#   return -loss_val/sum(X_train['imps'])\n",
        "\n",
        "# xg_reg = xgb.XGBRegressor(objective ='reg:linear', colsample_bytree = 1, learning_rate = 0.5,\n",
        "#                 max_depth = 2, alpha = 10, n_estimators = 10)\n",
        "\n",
        "# xg_reg.fit(X_train,y_train)\n",
        "# 0.07662433715197157\n",
        "\n",
        "# xg_reg = xgb.XGBRegressor(objective ='reg:linear', colsample_bytree = 1, learning_rate = 0.5,\n",
        "#                 max_depth = 2, alpha = 10, n_estimators = 10)\n",
        "\n",
        "# xg_reg.fit(X_train,y_train)\n",
        "\n",
        "# xg_reg = xgb.XGBRegressor(objective ='reg:linear', colsample_bytree = 1, learning_rate = 0.4,\n",
        "#                 max_depth = 2, alpha = 10, n_estimators = 10)\n",
        "\n",
        "# xg_reg.fit(X_train,y_train)\n",
        "\n",
        "# xg_reg = xgb.XGBRegressor(objective ='reg:linear', colsample_bytree = 0.7, learning_rate = 0.4,\n",
        "#                 max_depth = 10, alpha = 10, n_estimators = 100)\n",
        "\n",
        "# xg_reg.fit(X_train,y_train)\n",
        "# 0.05869134292135717 alpha=10, colsample_bytree=0.7, learning_rate=0.4, max_depth=10 n_estimators=100\n",
        "\n",
        "# print(compute_loss(xg_reg))\n",
        "# print(count_pass_try)\n",
        "\n",
        "# xgb.plot_tree(xg_reg,num_trees=0)\n",
        "# plt.rcParams['figure.figsize'] = [50, 10]\n",
        "# plt.show()\n",
        "# plt.savefig('xgb.jpg', dpi=600, quality=80, optimize=True, progressive=True)\n",
        "\n",
        "# xgb.plot_importance(xg_reg)\n",
        "# plt.rcParams['figure.figsize'] = [5, 5]\n",
        "# plt.show()\n",
        "# plt.savefig('Feature Importance', dpi=600, quality=80, optimize=True, progressive=True)\n",
        "\n",
        "# xg_reg = xgb.XGBRegressor()\n",
        "\n",
        "# xg_reg.fit(X_train,y_train)\n",
        "\n",
        "# print(compute_loss(xg_reg))\n",
        "# print(count_pass_try)\n",
        "\n",
        "# params = {\n",
        "#     'task': 'train', \n",
        "#     'boosting': 'dart',\n",
        "#     'num_iteration': 2000,\n",
        "#     'boosting': 'gbdt',\n",
        "#     'objective': 'regression',\n",
        "#     'num_leaves': 20,\n",
        "#     'max_depth': 10,\n",
        "#     'learning_rate': 0.5,\n",
        "#     'metric': {'l2','l1'},\n",
        "#     'verbose': -1\n",
        "# }\n",
        "\n",
        "# # loading data\n",
        "# lgb_train = lgb.Dataset(X_train, y_train)\n",
        "# lgb_eval = lgb.Dataset(X_val, y_val, reference=lgb_train)\n",
        "\n",
        "# lgb_reg = lgb.train(params,train_set=lgb_train,valid_sets=lgb_eval,early_stopping_rounds=300)\n",
        "\n",
        "# print(compute_loss(lgb_reg))\n",
        "# print(count_pass_try) # 0.05885859414947101\n",
        "# params = {\n",
        "#     'task': 'train', \n",
        "#     'boosting': 'dart',\n",
        "#     'num_iteration': 2000,\n",
        "#     'boosting': 'gbdt',\n",
        "#     'objective': 'regression',\n",
        "#     'num_leaves': 20,\n",
        "#     'max_depth': 10,\n",
        "#     'learning_rate': 0.5,\n",
        "#     'metric': {'l2','l1'},\n",
        "#     'verbose': -1\n",
        "# }\n",
        "# plotting feature importance\n",
        "# lgb.plot_importance(lgb_reg, height=1)"
      ],
      "metadata": {
        "id": "c6Nemevz_Ibi"
      },
      "execution_count": null,
      "outputs": []
    },
    {
      "cell_type": "code",
      "source": [
        "X_val['imps']"
      ],
      "metadata": {
        "colab": {
          "base_uri": "https://localhost:8080/"
        },
        "id": "nZaf0Zk9hUMY",
        "outputId": "c76e93fd-dac2-41e0-beaa-632b3678b7f2"
      },
      "execution_count": null,
      "outputs": [
        {
          "output_type": "execute_result",
          "data": {
            "text/plain": [
              "55330      2.0\n",
              "631914     1.0\n",
              "3727353    1.0\n",
              "1369578    1.0\n",
              "3258258    1.0\n",
              "          ... \n",
              "2092157    1.0\n",
              "1952673    1.0\n",
              "429041     1.0\n",
              "4094452    1.0\n",
              "1328302    1.0\n",
              "Name: imps, Length: 891813, dtype: float64"
            ]
          },
          "metadata": {},
          "execution_count": 41
        }
      ]
    },
    {
      "cell_type": "code",
      "source": [
        "def compute_loss_log(model_chosen):\n",
        "  global count_pass_try\n",
        "  count_pass_try = 0\n",
        "  loss_val = 0\n",
        "  val_pred = model_chosen.predict(X_val)\n",
        "  val_pred = list(map(lambda x:exp(x)-1,val_pred))\n",
        "  for i in range(len(y_val)):\n",
        "    Y_hat = val_pred[i]/X_val['imps'].iloc[i]\n",
        "    Y_hat_bar = 1-Y_hat\n",
        "    try:\n",
        "      loss_val += X_val['imps'].iloc[i]*log(Y_hat_bar) + y_val.iloc[i]*log(Y_hat/Y_hat_bar)\n",
        "    except:\n",
        "      try:\n",
        "        Y_hat = abs(Y_hat)\n",
        "        Y_hat_bar = 1-Y_hat\n",
        "        loss_val += X_val['imps'].iloc[i]*log(Y_hat_bar) + y_val.iloc[i]*log(Y_hat/Y_hat_bar)\n",
        "      except:\n",
        "        count_pass_try+=1\n",
        "        pass\n",
        "  return -loss_val/sum(X_val['imps'])"
      ],
      "metadata": {
        "id": "-cSTvmsjq1px"
      },
      "execution_count": null,
      "outputs": []
    },
    {
      "cell_type": "code",
      "source": [
        "# Initialize CatBoostRegressor\n",
        "# iterations=10,learning_rate=1,depth=2, l2_leaf_reg=0 ,random_strength\n",
        "# cat_reg = CatBoostRegressor(iterations=10,depth=12,subsample=1,grow_policy='Lossguide')\n",
        "\n",
        "cat_reg = CatBoostRegressor(iterations=1000,\n",
        "                            depth=32,\n",
        "                            subsample=1,\n",
        "                            grow_policy='Lossguide',\n",
        "                            max_leaves= 16384,\n",
        "                            score_function='L2',\n",
        "                            model_size_reg=0,\n",
        "                            use_best_model = True)\n",
        "# Fit model\n",
        "cat_reg.fit(X_train, y_train_log,eval_set=(X_val, y_val_log),early_stopping_rounds=50)\n",
        "# cat_reg.fit(X_train, y_train_log,eval_set=(X_val_tune, y_val_tune_log),early_stopping_rounds=50)\n",
        "# print(compute_loss_log(cat_reg))\n",
        "# print(count_pass_try) # 0.05106602955118768 using best model, max_leaves= 16384"
      ],
      "metadata": {
        "id": "4-QtlpRMlYu0",
        "colab": {
          "base_uri": "https://localhost:8080/",
          "height": 468
        },
        "outputId": "d59cc4b3-2402-4d2d-dee1-a78c6b843688"
      },
      "execution_count": null,
      "outputs": [
        {
          "output_type": "error",
          "ename": "CatBoostError",
          "evalue": "ignored",
          "traceback": [
            "\u001b[0;31m---------------------------------------------------------------------------\u001b[0m",
            "\u001b[0;31mCatBoostError\u001b[0m                             Traceback (most recent call last)",
            "\u001b[0;32m<ipython-input-43-717d46660faa>\u001b[0m in \u001b[0;36m<module>\u001b[0;34m\u001b[0m\n\u001b[1;32m     12\u001b[0m                             use_best_model = True)\n\u001b[1;32m     13\u001b[0m \u001b[0;31m# Fit model\u001b[0m\u001b[0;34m\u001b[0m\u001b[0;34m\u001b[0m\u001b[0;34m\u001b[0m\u001b[0m\n\u001b[0;32m---> 14\u001b[0;31m \u001b[0mcat_reg\u001b[0m\u001b[0;34m.\u001b[0m\u001b[0mfit\u001b[0m\u001b[0;34m(\u001b[0m\u001b[0mX_train\u001b[0m\u001b[0;34m,\u001b[0m \u001b[0my_train_log\u001b[0m\u001b[0;34m,\u001b[0m\u001b[0meval_set\u001b[0m\u001b[0;34m=\u001b[0m\u001b[0;34m(\u001b[0m\u001b[0mX_val\u001b[0m\u001b[0;34m,\u001b[0m \u001b[0my_val_log\u001b[0m\u001b[0;34m)\u001b[0m\u001b[0;34m,\u001b[0m\u001b[0mearly_stopping_rounds\u001b[0m\u001b[0;34m=\u001b[0m\u001b[0;36m50\u001b[0m\u001b[0;34m)\u001b[0m\u001b[0;34m\u001b[0m\u001b[0;34m\u001b[0m\u001b[0m\n\u001b[0m\u001b[1;32m     15\u001b[0m \u001b[0;31m# cat_reg.fit(X_train, y_train_log,eval_set=(X_val_tune, y_val_tune_log),early_stopping_rounds=50)\u001b[0m\u001b[0;34m\u001b[0m\u001b[0;34m\u001b[0m\u001b[0;34m\u001b[0m\u001b[0m\n\u001b[1;32m     16\u001b[0m \u001b[0;31m# print(compute_loss_log(cat_reg))\u001b[0m\u001b[0;34m\u001b[0m\u001b[0;34m\u001b[0m\u001b[0;34m\u001b[0m\u001b[0m\n",
            "\u001b[0;32m/usr/local/lib/python3.8/dist-packages/catboost/core.py\u001b[0m in \u001b[0;36mfit\u001b[0;34m(self, X, y, cat_features, text_features, embedding_features, sample_weight, baseline, use_best_model, eval_set, verbose, logging_level, plot, plot_file, column_description, verbose_eval, metric_period, silent, early_stopping_rounds, save_snapshot, snapshot_file, snapshot_interval, init_model, callbacks, log_cout, log_cerr)\u001b[0m\n\u001b[1;32m   5728\u001b[0m             \u001b[0mCatBoostRegressor\u001b[0m\u001b[0;34m.\u001b[0m\u001b[0m_check_is_compatible_loss\u001b[0m\u001b[0;34m(\u001b[0m\u001b[0mparams\u001b[0m\u001b[0;34m[\u001b[0m\u001b[0;34m'loss_function'\u001b[0m\u001b[0;34m]\u001b[0m\u001b[0;34m)\u001b[0m\u001b[0;34m\u001b[0m\u001b[0;34m\u001b[0m\u001b[0m\n\u001b[1;32m   5729\u001b[0m \u001b[0;34m\u001b[0m\u001b[0m\n\u001b[0;32m-> 5730\u001b[0;31m         return self._fit(X, y, cat_features, text_features, embedding_features, None, sample_weight, None, None, None, None, baseline,\n\u001b[0m\u001b[1;32m   5731\u001b[0m                          \u001b[0muse_best_model\u001b[0m\u001b[0;34m,\u001b[0m \u001b[0meval_set\u001b[0m\u001b[0;34m,\u001b[0m \u001b[0mverbose\u001b[0m\u001b[0;34m,\u001b[0m \u001b[0mlogging_level\u001b[0m\u001b[0;34m,\u001b[0m \u001b[0mplot\u001b[0m\u001b[0;34m,\u001b[0m \u001b[0mplot_file\u001b[0m\u001b[0;34m,\u001b[0m \u001b[0mcolumn_description\u001b[0m\u001b[0;34m,\u001b[0m\u001b[0;34m\u001b[0m\u001b[0;34m\u001b[0m\u001b[0m\n\u001b[1;32m   5732\u001b[0m                          \u001b[0mverbose_eval\u001b[0m\u001b[0;34m,\u001b[0m \u001b[0mmetric_period\u001b[0m\u001b[0;34m,\u001b[0m \u001b[0msilent\u001b[0m\u001b[0;34m,\u001b[0m \u001b[0mearly_stopping_rounds\u001b[0m\u001b[0;34m,\u001b[0m\u001b[0;34m\u001b[0m\u001b[0;34m\u001b[0m\u001b[0m\n",
            "\u001b[0;32m/usr/local/lib/python3.8/dist-packages/catboost/core.py\u001b[0m in \u001b[0;36m_fit\u001b[0;34m(self, X, y, cat_features, text_features, embedding_features, pairs, sample_weight, group_id, group_weight, subgroup_id, pairs_weight, baseline, use_best_model, eval_set, verbose, logging_level, plot, plot_file, column_description, verbose_eval, metric_period, silent, early_stopping_rounds, save_snapshot, snapshot_file, snapshot_interval, init_model, callbacks, log_cout, log_cerr)\u001b[0m\n\u001b[1;32m   2353\u001b[0m         \u001b[0;32mwith\u001b[0m \u001b[0mlog_fixup\u001b[0m\u001b[0;34m(\u001b[0m\u001b[0mlog_cout\u001b[0m\u001b[0;34m,\u001b[0m \u001b[0mlog_cerr\u001b[0m\u001b[0;34m)\u001b[0m\u001b[0;34m,\u001b[0m\u001b[0;31m \u001b[0m\u001b[0;31m\\\u001b[0m\u001b[0;34m\u001b[0m\u001b[0;34m\u001b[0m\u001b[0m\n\u001b[1;32m   2354\u001b[0m             \u001b[0mplot_wrapper\u001b[0m\u001b[0;34m(\u001b[0m\u001b[0mplot\u001b[0m\u001b[0;34m,\u001b[0m \u001b[0mplot_file\u001b[0m\u001b[0;34m,\u001b[0m \u001b[0;34m'Training plots'\u001b[0m\u001b[0;34m,\u001b[0m \u001b[0;34m[\u001b[0m\u001b[0m_get_train_dir\u001b[0m\u001b[0;34m(\u001b[0m\u001b[0mself\u001b[0m\u001b[0;34m.\u001b[0m\u001b[0mget_params\u001b[0m\u001b[0;34m(\u001b[0m\u001b[0;34m)\u001b[0m\u001b[0;34m)\u001b[0m\u001b[0;34m]\u001b[0m\u001b[0;34m)\u001b[0m\u001b[0;34m:\u001b[0m\u001b[0;34m\u001b[0m\u001b[0;34m\u001b[0m\u001b[0m\n\u001b[0;32m-> 2355\u001b[0;31m             self._train(\n\u001b[0m\u001b[1;32m   2356\u001b[0m                 \u001b[0mtrain_pool\u001b[0m\u001b[0;34m,\u001b[0m\u001b[0;34m\u001b[0m\u001b[0;34m\u001b[0m\u001b[0m\n\u001b[1;32m   2357\u001b[0m                 \u001b[0mtrain_params\u001b[0m\u001b[0;34m[\u001b[0m\u001b[0;34m\"eval_sets\"\u001b[0m\u001b[0;34m]\u001b[0m\u001b[0;34m,\u001b[0m\u001b[0;34m\u001b[0m\u001b[0;34m\u001b[0m\u001b[0m\n",
            "\u001b[0;32m/usr/local/lib/python3.8/dist-packages/catboost/core.py\u001b[0m in \u001b[0;36m_train\u001b[0;34m(self, train_pool, test_pool, params, allow_clear_pool, init_model)\u001b[0m\n\u001b[1;32m   1757\u001b[0m \u001b[0;34m\u001b[0m\u001b[0m\n\u001b[1;32m   1758\u001b[0m     \u001b[0;32mdef\u001b[0m \u001b[0m_train\u001b[0m\u001b[0;34m(\u001b[0m\u001b[0mself\u001b[0m\u001b[0;34m,\u001b[0m \u001b[0mtrain_pool\u001b[0m\u001b[0;34m,\u001b[0m \u001b[0mtest_pool\u001b[0m\u001b[0;34m,\u001b[0m \u001b[0mparams\u001b[0m\u001b[0;34m,\u001b[0m \u001b[0mallow_clear_pool\u001b[0m\u001b[0;34m,\u001b[0m \u001b[0minit_model\u001b[0m\u001b[0;34m)\u001b[0m\u001b[0;34m:\u001b[0m\u001b[0;34m\u001b[0m\u001b[0;34m\u001b[0m\u001b[0m\n\u001b[0;32m-> 1759\u001b[0;31m         \u001b[0mself\u001b[0m\u001b[0;34m.\u001b[0m\u001b[0m_object\u001b[0m\u001b[0;34m.\u001b[0m\u001b[0m_train\u001b[0m\u001b[0;34m(\u001b[0m\u001b[0mtrain_pool\u001b[0m\u001b[0;34m,\u001b[0m \u001b[0mtest_pool\u001b[0m\u001b[0;34m,\u001b[0m \u001b[0mparams\u001b[0m\u001b[0;34m,\u001b[0m \u001b[0mallow_clear_pool\u001b[0m\u001b[0;34m,\u001b[0m \u001b[0minit_model\u001b[0m\u001b[0;34m.\u001b[0m\u001b[0m_object\u001b[0m \u001b[0;32mif\u001b[0m \u001b[0minit_model\u001b[0m \u001b[0;32melse\u001b[0m \u001b[0;32mNone\u001b[0m\u001b[0;34m)\u001b[0m\u001b[0;34m\u001b[0m\u001b[0;34m\u001b[0m\u001b[0m\n\u001b[0m\u001b[1;32m   1760\u001b[0m         \u001b[0mself\u001b[0m\u001b[0;34m.\u001b[0m\u001b[0m_set_trained_model_attributes\u001b[0m\u001b[0;34m(\u001b[0m\u001b[0;34m)\u001b[0m\u001b[0;34m\u001b[0m\u001b[0;34m\u001b[0m\u001b[0m\n\u001b[1;32m   1761\u001b[0m \u001b[0;34m\u001b[0m\u001b[0m\n",
            "\u001b[0;32m_catboost.pyx\u001b[0m in \u001b[0;36m_catboost._CatBoost._train\u001b[0;34m()\u001b[0m\n",
            "\u001b[0;32m_catboost.pyx\u001b[0m in \u001b[0;36m_catboost._CatBoost._train\u001b[0;34m()\u001b[0m\n",
            "\u001b[0;31mCatBoostError\u001b[0m: catboost/libs/metrics/metric.cpp:6397: metric/loss-function RMSE do not allows nan value on target"
          ]
        }
      ]
    },
    {
      "cell_type": "code",
      "source": [
        "# model = CatBoostRegressor()      # parameters not required.\n",
        "# model.load_model('CatBoostModel (1)')\n",
        "val_pred_cat = list(map(lambda x:exp(x)-1,cat_reg.predict(X_test)))\n",
        "response_catboost = np.round_(val_pred_cat)\n",
        "# response_catboost = val_pred_cat\n",
        "response_catboost[response_catboost==-0]=0\n",
        "Predictions_CTR = response_catboost/X_test['imps']\n",
        "Predictions_CTR[Predictions_CTR>1] = 1\n",
        "Predictions_CTR[Predictions_CTR<0] = 0\n",
        "# np.savetxt(\"Predictions_CTR.txt\", Predictions_CTR)"
      ],
      "metadata": {
        "id": "Su49t_F7kIr8"
      },
      "execution_count": null,
      "outputs": []
    },
    {
      "cell_type": "code",
      "source": [
        "# Save model \n",
        "# cat_reg.save_model('CatBoostModel')    # extension not required.\n",
        "\n",
        "# Load model\n",
        "# model = CatBoostRegressor()      # parameters not required.\n",
        "# model.load_model('CatBoostModel')\n",
        "# print(compute_loss_log(model))\n",
        "# print(count_pass_try)"
      ],
      "metadata": {
        "id": "TUbeKbU3CSrN"
      },
      "execution_count": null,
      "outputs": []
    },
    {
      "cell_type": "code",
      "source": [
        "100*pd.value_counts(response_catboost)/len(response_catboost)"
      ],
      "metadata": {
        "id": "wdvHEJinZLj3"
      },
      "execution_count": null,
      "outputs": []
    },
    {
      "cell_type": "code",
      "source": [
        "# Get predictions\n",
        "# val_pred_linear_reg = max(y_train)*Linear_model_scaled.predict(X_val_scaled)\n",
        "# val_pred_xgboost = xg_reg.predict(X_val)\n",
        "# val_pred_lightgbm = lgb_reg.predict(X_val)\n",
        "val_pred_cat_2 = list(map(lambda x:exp(x)-1,cat_reg.predict(X_val)))\n",
        "rmse = (mean_squared_error(y_val, val_pred_cat_2))**(0.5)\n",
        "r2 = r2_score(y_val, val_pred_cat_2)\n",
        "print(compute_loss_log(cat_reg))\n",
        "print(\"The difference between actual and predicted values\", rmse)\n",
        "print('R2: {:.2f}'.format(r2))"
      ],
      "metadata": {
        "id": "Yoyvrsgk85Uc"
      },
      "execution_count": null,
      "outputs": []
    },
    {
      "cell_type": "code",
      "source": [
        "%%time \n",
        "exp(cat_reg.predict(X_val.iloc[0]))-1"
      ],
      "metadata": {
        "id": "1XOpwxCaz9dQ"
      },
      "execution_count": null,
      "outputs": []
    },
    {
      "cell_type": "code",
      "source": [
        "cat_reg.get_all_params()"
      ],
      "metadata": {
        "id": "X6dnMnKPMHbo"
      },
      "execution_count": null,
      "outputs": []
    },
    {
      "cell_type": "code",
      "source": [
        "dataframe_features_cat = pd.DataFrame({\n",
        "    'feature_importance': cat_reg.get_feature_importance(), \n",
        "    'feature_names': X_val.columns}).sort_values(by=['feature_importance'],\n",
        "                                                 ascending=False)\n",
        "dataframe_features_cat.sort_values(\n",
        "    by=['feature_importance'], ascending=True).plot.barh(x='feature_names', y='feature_importance')"
      ],
      "metadata": {
        "id": "8TfI8AT8IIAf"
      },
      "execution_count": null,
      "outputs": []
    },
    {
      "cell_type": "code",
      "source": [
        "# # Save model \n",
        "# cat_reg.save_model('CatBoostModel')    # extension not required.\n",
        "\n",
        "# # Load model\n",
        "# model = CatBoostRegressor()      # parameters not required.\n",
        "# model.load_model('CatBoostModel')"
      ],
      "metadata": {
        "id": "jRm0rY-TCCBe"
      },
      "execution_count": null,
      "outputs": []
    },
    {
      "cell_type": "markdown",
      "source": [
        "# **Compute the error**"
      ],
      "metadata": {
        "id": "GI6YpR7Vagr9"
      }
    },
    {
      "cell_type": "code",
      "source": [
        "# min(val_pred_linear_reg), max(val_pred_linear_reg)"
      ],
      "metadata": {
        "id": "s3eSJ8Av9HOr"
      },
      "execution_count": null,
      "outputs": []
    },
    {
      "cell_type": "code",
      "source": [
        "# min(val_pred_lightgbm), max(val_pred_lightgbm)"
      ],
      "metadata": {
        "id": "4Xz3NTYE6eJW"
      },
      "execution_count": null,
      "outputs": []
    },
    {
      "cell_type": "code",
      "source": [
        "# min(val_pred_xgboost),max(val_pred_xgboost)"
      ],
      "metadata": {
        "id": "Okz6E_U5wSkP"
      },
      "execution_count": null,
      "outputs": []
    },
    {
      "cell_type": "code",
      "source": [
        "min(val_pred_cat), max(val_pred_cat)"
      ],
      "metadata": {
        "id": "SPgOkzS-Rt5V"
      },
      "execution_count": null,
      "outputs": []
    },
    {
      "cell_type": "code",
      "source": [
        "# response_linear_reg = np.round_(val_pred_linear_reg)\n",
        "# response_linear_reg[response_linear_reg==-0]=0\n",
        "# response_linear_reg"
      ],
      "metadata": {
        "id": "A9qVMZr_DXMr"
      },
      "execution_count": null,
      "outputs": []
    },
    {
      "cell_type": "code",
      "source": [
        "# response_lightgbm = np.round_(val_pred_lightgbm)\n",
        "# response_lightgbm[response_lightgbm==-0]=0\n",
        "# response_lightgbm"
      ],
      "metadata": {
        "id": "6db33E7k6h17"
      },
      "execution_count": null,
      "outputs": []
    },
    {
      "cell_type": "code",
      "source": [
        "# response_xgboost = np.round_(val_pred_xgboost)\n",
        "# response_xgboost[response_xgboost==-0]=0\n",
        "# response_xgboost"
      ],
      "metadata": {
        "id": "sA_FYy_3w4Dj"
      },
      "execution_count": null,
      "outputs": []
    },
    {
      "cell_type": "code",
      "source": [
        "response_catboost = np.round_(val_pred_cat_2)\n",
        "response_catboost[response_catboost==-0]=0\n",
        "response_catboost"
      ],
      "metadata": {
        "id": "nr8mL35jSAix"
      },
      "execution_count": null,
      "outputs": []
    },
    {
      "cell_type": "code",
      "source": [
        "# 100*pd.value_counts(response_linear_reg)/len(response_linear_reg)"
      ],
      "metadata": {
        "id": "rDX1amUZEw_q"
      },
      "execution_count": null,
      "outputs": []
    },
    {
      "cell_type": "code",
      "source": [
        "# 100*pd.value_counts(response_lightgbm)/len(response_lightgbm)"
      ],
      "metadata": {
        "id": "oU-oyYdp64mg"
      },
      "execution_count": null,
      "outputs": []
    },
    {
      "cell_type": "code",
      "source": [
        "# 100*pd.value_counts(response_xgboost)/len(response_xgboost)"
      ],
      "metadata": {
        "id": "q2RPX4fZxDuS"
      },
      "execution_count": null,
      "outputs": []
    },
    {
      "cell_type": "code",
      "source": [
        "100*pd.value_counts(y_val)/len(y_val)"
      ],
      "metadata": {
        "id": "tJg6uhCGm2TW"
      },
      "execution_count": null,
      "outputs": []
    },
    {
      "cell_type": "code",
      "source": [
        "100*pd.value_counts(response_catboost)/len(response_catboost)"
      ],
      "metadata": {
        "id": "CjsIXx4zSI4l"
      },
      "execution_count": null,
      "outputs": []
    },
    {
      "cell_type": "code",
      "source": [
        "# pd.value_counts(abs(response_linear_reg-y_val))[0.0]/len(y_val)"
      ],
      "metadata": {
        "id": "c1PKZTgIar9h"
      },
      "execution_count": null,
      "outputs": []
    },
    {
      "cell_type": "code",
      "source": [
        "# pd.value_counts(abs(response_lightgbm-y_val))[0.0]/len(y_val)"
      ],
      "metadata": {
        "id": "V-prvzN46_Mp"
      },
      "execution_count": null,
      "outputs": []
    },
    {
      "cell_type": "code",
      "source": [
        "# pd.value_counts(abs(response_xgboost-y_val))[0.0]/len(y_val)"
      ],
      "metadata": {
        "id": "-JTzKI5BxO4U"
      },
      "execution_count": null,
      "outputs": []
    },
    {
      "cell_type": "code",
      "source": [
        "pd.value_counts(abs(response_catboost-y_val))[0.0]/len(y_val)"
      ],
      "metadata": {
        "id": "jH5yZCdlSL7H"
      },
      "execution_count": null,
      "outputs": []
    },
    {
      "cell_type": "code",
      "source": [
        "# pd.value_counts(abs(response_linear_reg-y_val))"
      ],
      "metadata": {
        "id": "qYj2RTMGbXhn"
      },
      "execution_count": null,
      "outputs": []
    },
    {
      "cell_type": "code",
      "source": [
        "# pd.value_counts(abs(response_lightgbm-y_val))"
      ],
      "metadata": {
        "id": "q5UDwr1u7Foj"
      },
      "execution_count": null,
      "outputs": []
    },
    {
      "cell_type": "code",
      "source": [
        "# pd.value_counts(abs(response_xgboost-y_val))"
      ],
      "metadata": {
        "id": "sDVBT5H2xV0o"
      },
      "execution_count": null,
      "outputs": []
    },
    {
      "cell_type": "code",
      "source": [
        "100*pd.value_counts(abs(response_catboost-y_val))/len(y_val)"
      ],
      "metadata": {
        "id": "aMunF4GDSPWT"
      },
      "execution_count": null,
      "outputs": []
    },
    {
      "cell_type": "code",
      "source": [
        "pd.value_counts(y_val)[0.0]/len(y_val)"
      ],
      "metadata": {
        "id": "rT0ZywNmbRsC"
      },
      "execution_count": null,
      "outputs": []
    },
    {
      "cell_type": "code",
      "source": [
        "# pd.value_counts(response_linear_reg)[0.0]/len(y_val)"
      ],
      "metadata": {
        "id": "_FjTxUwHbJGk"
      },
      "execution_count": null,
      "outputs": []
    },
    {
      "cell_type": "code",
      "source": [
        "# pd.value_counts(response_lightgbm)[0.0]/len(y_val)"
      ],
      "metadata": {
        "id": "eoL17bNx7LvA"
      },
      "execution_count": null,
      "outputs": []
    },
    {
      "cell_type": "code",
      "source": [
        "# pd.value_counts(response_xgboost)[0.0]/len(y_val)"
      ],
      "metadata": {
        "id": "mHkZ4B4XxeQ3"
      },
      "execution_count": null,
      "outputs": []
    },
    {
      "cell_type": "code",
      "source": [
        "pd.value_counts(response_catboost)[0.0]/len(y_val)"
      ],
      "metadata": {
        "id": "A1yKHWt5SUyq"
      },
      "execution_count": null,
      "outputs": []
    },
    {
      "cell_type": "code",
      "source": [
        "# max(y_val/X_val['imps'])"
      ],
      "metadata": {
        "id": "_a6zK8B9TTpG"
      },
      "execution_count": null,
      "outputs": []
    },
    {
      "cell_type": "code",
      "source": [
        "# Predictions_CTR = response_catboost/X_val['imps']\n",
        "# Predictions_CTR[Predictions_CTR>1] = 1\n",
        "# Predictions_CTR[Predictions_CTR<0] = 0"
      ],
      "metadata": {
        "id": "Y4AQcJNhVCMh"
      },
      "execution_count": null,
      "outputs": []
    },
    {
      "cell_type": "code",
      "source": [
        "# min(Predictions_CTR), max(Predictions_CTR)"
      ],
      "metadata": {
        "id": "Mc-8IyXWVU_2"
      },
      "execution_count": null,
      "outputs": []
    },
    {
      "cell_type": "code",
      "source": [
        "# np.savetxt(\"Predictions_CTR.txt\", Predictions_CTR)"
      ],
      "metadata": {
        "id": "wtFfqiZUTCoa"
      },
      "execution_count": null,
      "outputs": []
    },
    {
      "cell_type": "code",
      "source": [
        "# # Displaying the contents of the text file\n",
        "# content = np.loadtxt('Predictions_CTR.txt')\n",
        "# print(\"\\nContent in Predictions_CTR.txt:\\n\", content)"
      ],
      "metadata": {
        "id": "J4C3sETBWVQg"
      },
      "execution_count": null,
      "outputs": []
    }
  ]
}